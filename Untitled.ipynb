{
 "cells": [
  {
   "cell_type": "code",
   "execution_count": 2,
   "id": "7e69e3ce",
   "metadata": {},
   "outputs": [],
   "source": [
    "import pandas as pd"
   ]
  },
  {
   "cell_type": "code",
   "execution_count": 3,
   "id": "a0781c14",
   "metadata": {},
   "outputs": [],
   "source": [
    "import numpy as np"
   ]
  },
  {
   "cell_type": "code",
   "execution_count": 25,
   "id": "2f1be1ad",
   "metadata": {},
   "outputs": [],
   "source": [
    "import matplotlib.pyplot as plt"
   ]
  },
  {
   "cell_type": "code",
   "execution_count": 28,
   "id": "85e94815",
   "metadata": {},
   "outputs": [],
   "source": [
    "from sklearn.cluster import KMeans"
   ]
  },
  {
   "cell_type": "code",
   "execution_count": 29,
   "id": "af6b5523",
   "metadata": {},
   "outputs": [],
   "source": [
    "from sklearn.preprocessing import MinMaxScaler"
   ]
  },
  {
   "cell_type": "code",
   "execution_count": 30,
   "id": "61ddec0c",
   "metadata": {},
   "outputs": [],
   "source": [
    "%matplotlib inline"
   ]
  },
  {
   "cell_type": "code",
   "execution_count": 31,
   "id": "317099b8",
   "metadata": {},
   "outputs": [],
   "source": [
    "df = pd.read_csv('Clustering_gmm.csv')"
   ]
  },
  {
   "cell_type": "code",
   "execution_count": 32,
   "id": "5b763584",
   "metadata": {},
   "outputs": [
    {
     "data": {
      "text/html": [
       "<div>\n",
       "<style scoped>\n",
       "    .dataframe tbody tr th:only-of-type {\n",
       "        vertical-align: middle;\n",
       "    }\n",
       "\n",
       "    .dataframe tbody tr th {\n",
       "        vertical-align: top;\n",
       "    }\n",
       "\n",
       "    .dataframe thead th {\n",
       "        text-align: right;\n",
       "    }\n",
       "</style>\n",
       "<table border=\"1\" class=\"dataframe\">\n",
       "  <thead>\n",
       "    <tr style=\"text-align: right;\">\n",
       "      <th></th>\n",
       "      <th>Weight</th>\n",
       "      <th>Height</th>\n",
       "    </tr>\n",
       "  </thead>\n",
       "  <tbody>\n",
       "    <tr>\n",
       "      <th>0</th>\n",
       "      <td>67.062924</td>\n",
       "      <td>176.086355</td>\n",
       "    </tr>\n",
       "    <tr>\n",
       "      <th>1</th>\n",
       "      <td>68.804094</td>\n",
       "      <td>178.388669</td>\n",
       "    </tr>\n",
       "    <tr>\n",
       "      <th>2</th>\n",
       "      <td>60.930863</td>\n",
       "      <td>170.284496</td>\n",
       "    </tr>\n",
       "    <tr>\n",
       "      <th>3</th>\n",
       "      <td>59.733843</td>\n",
       "      <td>168.691992</td>\n",
       "    </tr>\n",
       "    <tr>\n",
       "      <th>4</th>\n",
       "      <td>65.431230</td>\n",
       "      <td>173.763679</td>\n",
       "    </tr>\n",
       "  </tbody>\n",
       "</table>\n",
       "</div>"
      ],
      "text/plain": [
       "      Weight      Height\n",
       "0  67.062924  176.086355\n",
       "1  68.804094  178.388669\n",
       "2  60.930863  170.284496\n",
       "3  59.733843  168.691992\n",
       "4  65.431230  173.763679"
      ]
     },
     "execution_count": 32,
     "metadata": {},
     "output_type": "execute_result"
    }
   ],
   "source": [
    "df.head()"
   ]
  },
  {
   "cell_type": "code",
   "execution_count": 33,
   "id": "b35d8108",
   "metadata": {},
   "outputs": [
    {
     "data": {
      "text/plain": [
       "<matplotlib.collections.PathCollection at 0x243b79f9780>"
      ]
     },
     "execution_count": 33,
     "metadata": {},
     "output_type": "execute_result"
    },
    {
     "data": {
      "image/png": "[encoded data removed]",
      "text/plain": [
       "<Figure size 432x288 with 1 Axes>"
      ]
     },
     "metadata": {
      "needs_background": "light"
     },
     "output_type": "display_data"
    }
   ],
   "source": [
    "plt.scatter(df['Weight'],df['Height'])"
   ]
  },
  {
   "cell_type": "code",
   "execution_count": 41,
   "id": "bfc2c51f",
   "metadata": {},
   "outputs": [
    {
     "data": {
      "text/plain": [
       "KMeans(n_clusters=3)"
      ]
     },
     "execution_count": 41,
     "metadata": {},
     "output_type": "execute_result"
    }
   ],
   "source": [
    "km = KMeans(n_clusters=3)\n",
    "km"
   ]
  },
  {
   "cell_type": "code",
   "execution_count": 42,
   "id": "d8e52572",
   "metadata": {},
   "outputs": [
    {
     "data": {
      "text/plain": [
       "KMeans(n_clusters=3)"
      ]
     },
     "execution_count": 42,
     "metadata": {},
     "output_type": "execute_result"
    }
   ],
   "source": [
    "km"
   ]
  },
  {
   "cell_type": "code",
   "execution_count": 43,
   "id": "3df8ec21",
   "metadata": {},
   "outputs": [
    {
     "data": {
      "text/plain": [
       "array([2, 2, 0, 0, 2, 0, 0, 0, 0, 1, 0, 2, 0, 1, 0, 0, 2, 0, 1, 0, 0, 2,\n",
       "       0, 1, 0, 1, 2, 0, 1, 0, 0, 0, 2, 0, 0, 2, 1, 0, 1, 2, 1, 0, 0, 2,\n",
       "       0, 2, 0, 0, 2, 2, 1, 1, 2, 0, 0, 0, 0, 1, 1, 2, 2, 1, 2, 2, 2, 0,\n",
       "       0, 2, 0, 0, 1, 0, 1, 2, 1, 2, 0, 0, 0, 0, 1, 0, 1, 0, 0, 0, 1, 1,\n",
       "       2, 1, 1, 1, 2, 1, 0, 0, 2, 2, 2, 0, 1, 1, 2, 1, 0, 0, 0, 2, 0, 1,\n",
       "       1, 0, 1, 1, 2, 1, 2, 0, 0, 2, 0, 1, 2, 2, 1, 2, 2, 2, 2, 1, 0, 1,\n",
       "       0, 1, 1, 1, 0, 2, 0, 0, 2, 2, 2, 2, 0, 1, 0, 0, 0, 1, 1, 2, 0, 0,\n",
       "       0, 0, 0, 2, 0, 0, 2, 0, 2, 2, 0, 0, 2, 0, 1, 0, 2, 1, 2, 0, 0, 1,\n",
       "       0, 1, 1, 1, 2, 2, 2, 0, 0, 1, 0, 2, 0, 1, 2, 0, 1, 0, 0, 1, 0, 0,\n",
       "       0, 1, 1, 0, 0, 0, 0, 0, 0, 0, 0, 2, 0, 2, 2, 2, 0, 2, 0, 1, 1, 1,\n",
       "       0, 2, 0, 1, 0, 2, 1, 0, 1, 0, 0, 0, 0, 0, 0, 0, 0, 0, 1, 2, 2, 0,\n",
       "       0, 2, 1, 1, 0, 2, 0, 0, 0, 0, 2, 1, 0, 1, 1, 0, 1, 0, 0, 0, 2, 1,\n",
       "       2, 2, 0, 0, 1, 2, 0, 1, 2, 0, 2, 1, 0, 0, 0, 2, 2, 0, 2, 0, 2, 0,\n",
       "       0, 2, 0, 0, 0, 2, 1, 1, 2, 1, 1, 1, 0, 2, 2, 1, 0, 1, 2, 2, 0, 1,\n",
       "       1, 0, 1, 0, 2, 0, 1, 0, 1, 0, 0, 0, 0, 0, 0, 0, 1, 2, 0, 0, 1, 2,\n",
       "       0, 0, 2, 2, 0, 2, 0, 0, 0, 0, 1, 2, 2, 0, 2, 0, 2, 2, 2, 2, 0, 2,\n",
       "       0, 2, 0, 0, 1, 2, 0, 1, 1, 0, 0, 2, 2, 0, 0, 2, 0, 1, 0, 0, 0, 1,\n",
       "       0, 0, 0, 1, 1, 0, 1, 1, 0, 1, 1, 0, 0, 0, 0, 1, 1, 1, 1, 2, 1, 2,\n",
       "       0, 2, 1, 0, 2, 0, 2, 0, 0, 0, 1, 0, 1, 0, 0, 2, 1, 0, 0, 2, 1, 0,\n",
       "       0, 0, 2, 0, 2, 0, 2, 0, 2, 1, 0, 2, 1, 2, 0, 0, 0, 0, 2, 1, 0, 0,\n",
       "       0, 2, 2, 0, 0, 0, 0, 0, 1, 2, 0, 2, 1, 0, 0, 0, 1, 0, 0, 1, 0, 0,\n",
       "       0, 0, 2, 0, 1, 2, 0, 2, 0, 2, 0, 1, 0, 1, 0, 1, 0, 1, 0, 0, 0, 1,\n",
       "       0, 0, 0, 1, 2, 0, 0, 1, 0, 0, 0, 0, 2, 1, 1, 0])"
      ]
     },
     "execution_count": 43,
     "metadata": {},
     "output_type": "execute_result"
    }
   ],
   "source": [
    "y_predicted = km.fit_predict(df[['Weight','Height']])\n",
    "y_predicted"
   ]
  },
  {
   "cell_type": "code",
   "execution_count": 44,
   "id": "e6299d49",
   "metadata": {},
   "outputs": [
    {
     "data": {
      "text/html": [
       "<div>\n",
       "<style scoped>\n",
       "    .dataframe tbody tr th:only-of-type {\n",
       "        vertical-align: middle;\n",
       "    }\n",
       "\n",
       "    .dataframe tbody tr th {\n",
       "        vertical-align: top;\n",
       "    }\n",
       "\n",
       "    .dataframe thead th {\n",
       "        text-align: right;\n",
       "    }\n",
       "</style>\n",
       "<table border=\"1\" class=\"dataframe\">\n",
       "  <thead>\n",
       "    <tr style=\"text-align: right;\">\n",
       "      <th></th>\n",
       "      <th>Weight</th>\n",
       "      <th>Height</th>\n",
       "      <th>cluster</th>\n",
       "    </tr>\n",
       "  </thead>\n",
       "  <tbody>\n",
       "    <tr>\n",
       "      <th>0</th>\n",
       "      <td>67.062924</td>\n",
       "      <td>176.086355</td>\n",
       "      <td>2</td>\n",
       "    </tr>\n",
       "    <tr>\n",
       "      <th>1</th>\n",
       "      <td>68.804094</td>\n",
       "      <td>178.388669</td>\n",
       "      <td>2</td>\n",
       "    </tr>\n",
       "    <tr>\n",
       "      <th>2</th>\n",
       "      <td>60.930863</td>\n",
       "      <td>170.284496</td>\n",
       "      <td>0</td>\n",
       "    </tr>\n",
       "    <tr>\n",
       "      <th>3</th>\n",
       "      <td>59.733843</td>\n",
       "      <td>168.691992</td>\n",
       "      <td>0</td>\n",
       "    </tr>\n",
       "    <tr>\n",
       "      <th>4</th>\n",
       "      <td>65.431230</td>\n",
       "      <td>173.763679</td>\n",
       "      <td>2</td>\n",
       "    </tr>\n",
       "  </tbody>\n",
       "</table>\n",
       "</div>"
      ],
      "text/plain": [
       "      Weight      Height  cluster\n",
       "0  67.062924  176.086355        2\n",
       "1  68.804094  178.388669        2\n",
       "2  60.930863  170.284496        0\n",
       "3  59.733843  168.691992        0\n",
       "4  65.431230  173.763679        2"
      ]
     },
     "execution_count": 44,
     "metadata": {},
     "output_type": "execute_result"
    }
   ],
   "source": [
    "df['cluster'] = y_predicted\n",
    "df.head()"
   ]
  },
  {
   "cell_type": "code",
   "execution_count": 48,
   "id": "63988c8a",
   "metadata": {},
   "outputs": [],
   "source": [
    "df1 = df[df.cluster == 0]\n",
    "df2 = df[df.cluster == 1]\n",
    "df3 = df[df.cluster == 2]"
   ]
  },
  {
   "cell_type": "code",
   "execution_count": 55,
   "id": "9a9f4f30",
   "metadata": {},
   "outputs": [
    {
     "data": {
      "text/plain": [
       "<matplotlib.legend.Legend at 0x243b93b3040>"
      ]
     },
     "execution_count": 55,
     "metadata": {},
     "output_type": "execute_result"
    },
    {
     "data": {
      "image/png": "[encoded data removed]",
      "text/plain": [
       "<Figure size 432x288 with 1 Axes>"
      ]
     },
     "metadata": {
      "needs_background": "light"
     },
     "output_type": "display_data"
    }
   ],
   "source": [
    "plt.scatter(df1.Weight, df1['Height'],color = 'green',label = 'Height')\n",
    "plt.scatter(df2.Weight, df2['Height'],color = 'red',label = 'Height')\n",
    "plt.scatter(df3.Weight, df3['Height'],color = 'blue',label = 'Height')\n",
    "\n",
    "plt.xlabel('Weight')\n",
    "plt.ylabel('Height')\n",
    "\n",
    "plt.legend()\n"
   ]
  },
  {
   "cell_type": "code",
   "execution_count": 59,
   "id": "80d584f6",
   "metadata": {},
   "outputs": [
    {
     "name": "stderr",
     "output_type": "stream",
     "text": [
      "C:\\Users\\Lenovo\\AppData\\Local\\Programs\\Python\\Python310\\lib\\site-packages\\sklearn\\base.py:450: UserWarning: X does not have valid feature names, but MinMaxScaler was fitted with feature names\n",
      "  warnings.warn(\n"
     ]
    },
    {
     "ename": "ValueError",
     "evalue": "Expected 2D array, got 1D array instead:\narray=[176.0863547  178.38866853 170.28449577 168.6919918  173.76367903\n 168.09175124 170.64251603 170.09668166 171.86297157 162.75684311\n 168.71007855 176.4737468  171.17658204 162.91516701 170.64765908\n 169.19080975 176.33706853 169.84811911 162.4905542  169.89078752\n 168.85468537 177.0751606  170.06283827 162.25694859 170.00817842\n 163.76973667 177.11158493 169.10528593 164.03403131 167.66272215\n 169.69123426 169.34934976 177.48946836 170.41715746 169.00766364\n 178.89477041 162.19776822 170.77442958 162.03712437 176.81796097\n 160.86332119 172.45294212 168.57199985 177.59613769 169.83116828\n 176.66761858 171.84082283 170.64963222 175.6151183  176.25440699\n 162.70617729 162.82407434 171.21648881 171.01074652 168.62897547\n 169.89076903 170.31609059 161.95139649 164.80994214 175.78505639\n 175.83506107 163.18742968 176.20200791 175.55999533 176.5346359\n 167.7236079  168.63181673 175.62003194 169.77230658 169.03941481\n 161.63787711 171.24776339 161.47779743 176.40826029 162.29861918\n 176.76138936 169.72959427 169.45966648 169.62116747 170.01015437\n 162.75825099 170.69680641 162.69854341 170.74643476 169.25586163\n 170.0464747  162.01297159 163.98492748 175.63912785 162.99110965\n 162.85307939 164.10459318 175.99020345 163.06290255 168.81800342\n 170.056222   175.10068456 177.52258459 175.57748317 169.76070037\n 161.93511671 163.0145684  174.47360685 163.93426098 169.78602494\n 168.62020379 167.86158378 176.20348273 170.01191328 163.3475803\n 163.00088844 169.33213754 163.23958942 163.34390043 175.99494669\n 161.88989222 175.40112505 169.88022352 170.05374071 176.12303893\n 171.16518373 162.56685805 175.13078674 175.98727273 163.12301025\n 175.71382513 176.26787995 176.20942533 176.95459094 164.3490299\n 169.91917939 163.38734751 169.07413289 163.04546706 164.00992214\n 162.38650735 170.84800386 177.10027786 169.82152172 170.79447085\n 177.82529927 175.65168002 174.75237258 176.94094484 168.86545673\n 162.81003252 171.73481765 171.02032543 169.90171419 162.3205433\n 165.15279707 176.24951259 169.33232503 170.46893026 168.27567225\n 169.16102739 169.27905524 175.94290204 168.73099208 170.1264106\n 176.48681098 171.00166875 175.56327775 174.26729577 169.39308763\n 170.04201998 178.77217382 170.58415271 162.40350275 170.18628894\n 177.00811695 162.76996986 176.75697903 169.24706218 171.00234828\n 160.71711898 171.04474346 161.76731315 160.70126807 163.20391936\n 177.72608496 176.91107997 172.9515066  170.40351742 168.51817005\n 163.82547199 168.74471386 176.45259424 168.85874516 163.67304085\n 175.62926431 168.82802521 161.63692826 168.47211098 169.90226403\n 161.53839767 171.61330995 168.32484376 169.74097823 164.02613029\n 162.96043348 169.39478359 167.60404801 169.40584434 168.98346965\n 170.54824402 170.4988125  168.16773309 169.16089368 172.12323685\n 168.3754899  175.39657979 173.75291464 175.36718601 168.58661216\n 177.4017682  171.10762978 162.06594006 164.09688824 162.41149263\n 171.26734549 176.32479308 168.93757705 162.7183794  169.31572572\n 175.01438087 164.1643158  170.56799729 163.71989209 168.03241746\n 169.7227839  169.06360362 167.64354421 168.92715568 167.94611811\n 170.78605292 169.90423887 169.72841341 162.56450606 175.6794493\n 174.01800225 170.04919602 168.71537049 176.57740652 162.05138679\n 163.4965786  168.75691265 176.44073274 170.45740023 172.79475505\n 170.44974816 168.55943359 175.1891998  161.09579721 169.73381319\n 163.26980293 162.69248863 169.2687868  164.03309486 168.47740051\n 170.25953231 167.71398455 175.57778344 162.15841603 176.48271034\n 174.53918282 170.58625709 169.95760626 163.31667324 176.87132235\n 169.57674956 162.51102052 176.55507013 168.6944147  176.32576221\n 161.6528172  168.69635664 168.77597688 169.97373262 176.5853987\n 174.54472387 168.52063363 175.85427258 168.93979339 176.277487\n 167.28476434 169.9409206  176.12271402 170.27380211 169.71168846\n 170.29862989 175.64154818 160.18216445 162.96389047 175.12684413\n 161.13964854 161.15752316 163.05414529 169.84755266 174.45422286\n 176.69403304 161.76209532 171.87201823 160.85854343 174.56439056\n 175.89642385 170.02235606 163.41903298 163.22779977 168.3310952\n 163.47189505 170.7288781  176.56356092 171.2597974  162.32157566\n 169.83235799 162.44314002 167.66871938 168.65593483 169.88572874\n 169.39730945 170.11190775 171.38407051 168.26134052 161.76188063\n 176.91921917 170.36376171 168.77378618 162.39677273 176.20402231\n 170.49592707 170.12952282 176.02921599 176.5490447  169.53519183\n 176.41826587 169.63620136 167.01825064 168.46060452 167.92620739\n 163.13075835 175.61096528 175.16831824 172.7992099  172.79128268\n 167.35894528 175.7563233  176.53194927 174.96370934 174.52400677\n 169.49627644 175.42903918 170.43092545 176.06949147 169.11983663\n 169.19067956 161.76326223 173.66247084 169.03017417 164.16394529\n 164.64149047 168.74332513 169.81487572 175.64719834 177.46534692\n 169.67928527 169.93086005 174.57355726 168.72707392 163.20190848\n 169.46155302 169.03734408 169.90563431 161.80075479 170.43666277\n 167.82772674 168.59410583 162.9167018  161.16722797 171.01426549\n 164.30093436 163.53014682 167.96597599 162.25861233 162.04384401\n 169.20339444 168.01864959 169.46586198 169.977408   162.51250446\n 161.78990505 163.71840526 161.90677862 176.24498313 164.29165506\n 175.86837589 170.54921167 176.52918302 162.62099107 170.91895662\n 175.37205852 169.14616274 176.70403568 170.20010061 168.02508018\n 167.84150275 162.08747428 167.88352661 163.13320655 170.34111578\n 171.52685969 174.38555975 164.12330286 170.24215003 170.93190591\n 176.55790856 164.00835058 170.12819873 169.14887931 170.14635908\n 174.17010231 171.28217979 175.78052275 170.72631006 177.47661457\n 171.68159719 176.23348727 164.11578182 168.17107565 178.5659554\n 163.22810534 176.00483065 169.98522991 172.01446611 171.29061708\n 169.2529092  175.66791218 163.6193606  169.42282742 169.76851865\n 169.50335646 175.50036901 174.30655977 168.64648197 169.63082361\n 170.43359487 171.20138922 167.43389397 162.95841618 176.1709906\n 167.48811575 175.07743412 164.44600951 167.76499987 169.7834683\n 168.85579337 162.46226186 169.23171936 170.87361676 161.95853918\n 170.89815832 168.64765664 171.40666053 169.31704717 171.5653983\n 169.72408965 160.93887683 176.45749032 168.97764342 176.04730884\n 169.7444366  174.29069626 168.59552949 162.85746793 170.61308303\n 162.27901502 170.58766584 161.75544745 169.95530762 165.37564557\n 169.21906125 169.06215811 170.59755244 162.4306126  168.93620523\n 169.06160356 167.86713967 162.99887468 176.30981648 170.03657143\n 168.67399284 163.40549834 170.59345721 168.26019426 167.88926797\n 169.67974055 174.62557354 161.91920816 160.79487487 169.68970874].\nReshape your data either using array.reshape(-1, 1) if your data has a single feature or array.reshape(1, -1) if it contains a single sample.",
     "output_type": "error",
     "traceback": [
      "\u001b[1;31m---------------------------------------------------------------------------\u001b[0m",
      "\u001b[1;31mValueError\u001b[0m                                Traceback (most recent call last)",
      "Input \u001b[1;32mIn [59]\u001b[0m, in \u001b[0;36m<cell line: 3>\u001b[1;34m()\u001b[0m\n\u001b[0;32m      1\u001b[0m scaler \u001b[38;5;241m=\u001b[39m MinMaxScaler()\n\u001b[0;32m      2\u001b[0m scaler\u001b[38;5;241m.\u001b[39mfit(df[[\u001b[38;5;124m'\u001b[39m\u001b[38;5;124mHeight\u001b[39m\u001b[38;5;124m'\u001b[39m]])\n\u001b[1;32m----> 3\u001b[0m df[\u001b[38;5;124m'\u001b[39m\u001b[38;5;124mHeight\u001b[39m\u001b[38;5;124m'\u001b[39m] \u001b[38;5;241m=\u001b[39m \u001b[43mscaler\u001b[49m\u001b[38;5;241;43m.\u001b[39;49m\u001b[43mtransform\u001b[49m\u001b[43m(\u001b[49m\u001b[43mdf\u001b[49m\u001b[43m[\u001b[49m\u001b[38;5;124;43m'\u001b[39;49m\u001b[38;5;124;43mHeight\u001b[39;49m\u001b[38;5;124;43m'\u001b[39;49m\u001b[43m]\u001b[49m\u001b[43m)\u001b[49m\n\u001b[0;32m      6\u001b[0m scaler\u001b[38;5;241m.\u001b[39mfit(df[[\u001b[38;5;124m'\u001b[39m\u001b[38;5;124mWeight\u001b[39m\u001b[38;5;124m'\u001b[39m]])\n\u001b[0;32m      7\u001b[0m df[\u001b[38;5;124m'\u001b[39m\u001b[38;5;124mWeight\u001b[39m\u001b[38;5;124m'\u001b[39m] \u001b[38;5;241m=\u001b[39m scaler\u001b[38;5;241m.\u001b[39mtransform(df[\u001b[38;5;124m'\u001b[39m\u001b[38;5;124mWeight\u001b[39m\u001b[38;5;124m'\u001b[39m])\n",
      "File \u001b[1;32m~\\AppData\\Local\\Programs\\Python\\Python310\\lib\\site-packages\\sklearn\\preprocessing\\_data.py:496\u001b[0m, in \u001b[0;36mMinMaxScaler.transform\u001b[1;34m(self, X)\u001b[0m\n\u001b[0;32m    482\u001b[0m \u001b[38;5;124;03m\"\"\"Scale features of X according to feature_range.\u001b[39;00m\n\u001b[0;32m    483\u001b[0m \n\u001b[0;32m    484\u001b[0m \u001b[38;5;124;03mParameters\u001b[39;00m\n\u001b[1;32m   (...)\u001b[0m\n\u001b[0;32m    492\u001b[0m \u001b[38;5;124;03m    Transformed data.\u001b[39;00m\n\u001b[0;32m    493\u001b[0m \u001b[38;5;124;03m\"\"\"\u001b[39;00m\n\u001b[0;32m    494\u001b[0m check_is_fitted(\u001b[38;5;28mself\u001b[39m)\n\u001b[1;32m--> 496\u001b[0m X \u001b[38;5;241m=\u001b[39m \u001b[38;5;28;43mself\u001b[39;49m\u001b[38;5;241;43m.\u001b[39;49m\u001b[43m_validate_data\u001b[49m\u001b[43m(\u001b[49m\n\u001b[0;32m    497\u001b[0m \u001b[43m    \u001b[49m\u001b[43mX\u001b[49m\u001b[43m,\u001b[49m\n\u001b[0;32m    498\u001b[0m \u001b[43m    \u001b[49m\u001b[43mcopy\u001b[49m\u001b[38;5;241;43m=\u001b[39;49m\u001b[38;5;28;43mself\u001b[39;49m\u001b[38;5;241;43m.\u001b[39;49m\u001b[43mcopy\u001b[49m\u001b[43m,\u001b[49m\n\u001b[0;32m    499\u001b[0m \u001b[43m    \u001b[49m\u001b[43mdtype\u001b[49m\u001b[38;5;241;43m=\u001b[39;49m\u001b[43mFLOAT_DTYPES\u001b[49m\u001b[43m,\u001b[49m\n\u001b[0;32m    500\u001b[0m \u001b[43m    \u001b[49m\u001b[43mforce_all_finite\u001b[49m\u001b[38;5;241;43m=\u001b[39;49m\u001b[38;5;124;43m\"\u001b[39;49m\u001b[38;5;124;43mallow-nan\u001b[39;49m\u001b[38;5;124;43m\"\u001b[39;49m\u001b[43m,\u001b[49m\n\u001b[0;32m    501\u001b[0m \u001b[43m    \u001b[49m\u001b[43mreset\u001b[49m\u001b[38;5;241;43m=\u001b[39;49m\u001b[38;5;28;43;01mFalse\u001b[39;49;00m\u001b[43m,\u001b[49m\n\u001b[0;32m    502\u001b[0m \u001b[43m\u001b[49m\u001b[43m)\u001b[49m\n\u001b[0;32m    504\u001b[0m X \u001b[38;5;241m*\u001b[39m\u001b[38;5;241m=\u001b[39m \u001b[38;5;28mself\u001b[39m\u001b[38;5;241m.\u001b[39mscale_\n\u001b[0;32m    505\u001b[0m X \u001b[38;5;241m+\u001b[39m\u001b[38;5;241m=\u001b[39m \u001b[38;5;28mself\u001b[39m\u001b[38;5;241m.\u001b[39mmin_\n",
      "File \u001b[1;32m~\\AppData\\Local\\Programs\\Python\\Python310\\lib\\site-packages\\sklearn\\base.py:566\u001b[0m, in \u001b[0;36mBaseEstimator._validate_data\u001b[1;34m(self, X, y, reset, validate_separately, **check_params)\u001b[0m\n\u001b[0;32m    564\u001b[0m     \u001b[38;5;28;01mraise\u001b[39;00m \u001b[38;5;167;01mValueError\u001b[39;00m(\u001b[38;5;124m\"\u001b[39m\u001b[38;5;124mValidation should be done on X, y or both.\u001b[39m\u001b[38;5;124m\"\u001b[39m)\n\u001b[0;32m    565\u001b[0m \u001b[38;5;28;01melif\u001b[39;00m \u001b[38;5;129;01mnot\u001b[39;00m no_val_X \u001b[38;5;129;01mand\u001b[39;00m no_val_y:\n\u001b[1;32m--> 566\u001b[0m     X \u001b[38;5;241m=\u001b[39m check_array(X, \u001b[38;5;241m*\u001b[39m\u001b[38;5;241m*\u001b[39mcheck_params)\n\u001b[0;32m    567\u001b[0m     out \u001b[38;5;241m=\u001b[39m X\n\u001b[0;32m    568\u001b[0m \u001b[38;5;28;01melif\u001b[39;00m no_val_X \u001b[38;5;129;01mand\u001b[39;00m \u001b[38;5;129;01mnot\u001b[39;00m no_val_y:\n",
      "File \u001b[1;32m~\\AppData\\Local\\Programs\\Python\\Python310\\lib\\site-packages\\sklearn\\utils\\validation.py:769\u001b[0m, in \u001b[0;36mcheck_array\u001b[1;34m(array, accept_sparse, accept_large_sparse, dtype, order, copy, force_all_finite, ensure_2d, allow_nd, ensure_min_samples, ensure_min_features, estimator)\u001b[0m\n\u001b[0;32m    767\u001b[0m     \u001b[38;5;66;03m# If input is 1D raise error\u001b[39;00m\n\u001b[0;32m    768\u001b[0m     \u001b[38;5;28;01mif\u001b[39;00m array\u001b[38;5;241m.\u001b[39mndim \u001b[38;5;241m==\u001b[39m \u001b[38;5;241m1\u001b[39m:\n\u001b[1;32m--> 769\u001b[0m         \u001b[38;5;28;01mraise\u001b[39;00m \u001b[38;5;167;01mValueError\u001b[39;00m(\n\u001b[0;32m    770\u001b[0m             \u001b[38;5;124m\"\u001b[39m\u001b[38;5;124mExpected 2D array, got 1D array instead:\u001b[39m\u001b[38;5;130;01m\\n\u001b[39;00m\u001b[38;5;124marray=\u001b[39m\u001b[38;5;132;01m{}\u001b[39;00m\u001b[38;5;124m.\u001b[39m\u001b[38;5;130;01m\\n\u001b[39;00m\u001b[38;5;124m\"\u001b[39m\n\u001b[0;32m    771\u001b[0m             \u001b[38;5;124m\"\u001b[39m\u001b[38;5;124mReshape your data either using array.reshape(-1, 1) if \u001b[39m\u001b[38;5;124m\"\u001b[39m\n\u001b[0;32m    772\u001b[0m             \u001b[38;5;124m\"\u001b[39m\u001b[38;5;124myour data has a single feature or array.reshape(1, -1) \u001b[39m\u001b[38;5;124m\"\u001b[39m\n\u001b[0;32m    773\u001b[0m             \u001b[38;5;124m\"\u001b[39m\u001b[38;5;124mif it contains a single sample.\u001b[39m\u001b[38;5;124m\"\u001b[39m\u001b[38;5;241m.\u001b[39mformat(array)\n\u001b[0;32m    774\u001b[0m         )\n\u001b[0;32m    776\u001b[0m \u001b[38;5;66;03m# make sure we actually converted to numeric:\u001b[39;00m\n\u001b[0;32m    777\u001b[0m \u001b[38;5;28;01mif\u001b[39;00m dtype_numeric \u001b[38;5;129;01mand\u001b[39;00m array\u001b[38;5;241m.\u001b[39mdtype\u001b[38;5;241m.\u001b[39mkind \u001b[38;5;129;01min\u001b[39;00m \u001b[38;5;124m\"\u001b[39m\u001b[38;5;124mOUSV\u001b[39m\u001b[38;5;124m\"\u001b[39m:\n",
      "\u001b[1;31mValueError\u001b[0m: Expected 2D array, got 1D array instead:\narray=[176.0863547  178.38866853 170.28449577 168.6919918  173.76367903\n 168.09175124 170.64251603 170.09668166 171.86297157 162.75684311\n 168.71007855 176.4737468  171.17658204 162.91516701 170.64765908\n 169.19080975 176.33706853 169.84811911 162.4905542  169.89078752\n 168.85468537 177.0751606  170.06283827 162.25694859 170.00817842\n 163.76973667 177.11158493 169.10528593 164.03403131 167.66272215\n 169.69123426 169.34934976 177.48946836 170.41715746 169.00766364\n 178.89477041 162.19776822 170.77442958 162.03712437 176.81796097\n 160.86332119 172.45294212 168.57199985 177.59613769 169.83116828\n 176.66761858 171.84082283 170.64963222 175.6151183  176.25440699\n 162.70617729 162.82407434 171.21648881 171.01074652 168.62897547\n 169.89076903 170.31609059 161.95139649 164.80994214 175.78505639\n 175.83506107 163.18742968 176.20200791 175.55999533 176.5346359\n 167.7236079  168.63181673 175.62003194 169.77230658 169.03941481\n 161.63787711 171.24776339 161.47779743 176.40826029 162.29861918\n 176.76138936 169.72959427 169.45966648 169.62116747 170.01015437\n 162.75825099 170.69680641 162.69854341 170.74643476 169.25586163\n 170.0464747  162.01297159 163.98492748 175.63912785 162.99110965\n 162.85307939 164.10459318 175.99020345 163.06290255 168.81800342\n 170.056222   175.10068456 177.52258459 175.57748317 169.76070037\n 161.93511671 163.0145684  174.47360685 163.93426098 169.78602494\n 168.62020379 167.86158378 176.20348273 170.01191328 163.3475803\n 163.00088844 169.33213754 163.23958942 163.34390043 175.99494669\n 161.88989222 175.40112505 169.88022352 170.05374071 176.12303893\n 171.16518373 162.56685805 175.13078674 175.98727273 163.12301025\n 175.71382513 176.26787995 176.20942533 176.95459094 164.3490299\n 169.91917939 163.38734751 169.07413289 163.04546706 164.00992214\n 162.38650735 170.84800386 177.10027786 169.82152172 170.79447085\n 177.82529927 175.65168002 174.75237258 176.94094484 168.86545673\n 162.81003252 171.73481765 171.02032543 169.90171419 162.3205433\n 165.15279707 176.24951259 169.33232503 170.46893026 168.27567225\n 169.16102739 169.27905524 175.94290204 168.73099208 170.1264106\n 176.48681098 171.00166875 175.56327775 174.26729577 169.39308763\n 170.04201998 178.77217382 170.58415271 162.40350275 170.18628894\n 177.00811695 162.76996986 176.75697903 169.24706218 171.00234828\n 160.71711898 171.04474346 161.76731315 160.70126807 163.20391936\n 177.72608496 176.91107997 172.9515066  170.40351742 168.51817005\n 163.82547199 168.74471386 176.45259424 168.85874516 163.67304085\n 175.62926431 168.82802521 161.63692826 168.47211098 169.90226403\n 161.53839767 171.61330995 168.32484376 169.74097823 164.02613029\n 162.96043348 169.39478359 167.60404801 169.40584434 168.98346965\n 170.54824402 170.4988125  168.16773309 169.16089368 172.12323685\n 168.3754899  175.39657979 173.75291464 175.36718601 168.58661216\n 177.4017682  171.10762978 162.06594006 164.09688824 162.41149263\n 171.26734549 176.32479308 168.93757705 162.7183794  169.31572572\n 175.01438087 164.1643158  170.56799729 163.71989209 168.03241746\n 169.7227839  169.06360362 167.64354421 168.92715568 167.94611811\n 170.78605292 169.90423887 169.72841341 162.56450606 175.6794493\n 174.01800225 170.04919602 168.71537049 176.57740652 162.05138679\n 163.4965786  168.75691265 176.44073274 170.45740023 172.79475505\n 170.44974816 168.55943359 175.1891998  161.09579721 169.73381319\n 163.26980293 162.69248863 169.2687868  164.03309486 168.47740051\n 170.25953231 167.71398455 175.57778344 162.15841603 176.48271034\n 174.53918282 170.58625709 169.95760626 163.31667324 176.87132235\n 169.57674956 162.51102052 176.55507013 168.6944147  176.32576221\n 161.6528172  168.69635664 168.77597688 169.97373262 176.5853987\n 174.54472387 168.52063363 175.85427258 168.93979339 176.277487\n 167.28476434 169.9409206  176.12271402 170.27380211 169.71168846\n 170.29862989 175.64154818 160.18216445 162.96389047 175.12684413\n 161.13964854 161.15752316 163.05414529 169.84755266 174.45422286\n 176.69403304 161.76209532 171.87201823 160.85854343 174.56439056\n 175.89642385 170.02235606 163.41903298 163.22779977 168.3310952\n 163.47189505 170.7288781  176.56356092 171.2597974  162.32157566\n 169.83235799 162.44314002 167.66871938 168.65593483 169.88572874\n 169.39730945 170.11190775 171.38407051 168.26134052 161.76188063\n 176.91921917 170.36376171 168.77378618 162.39677273 176.20402231\n 170.49592707 170.12952282 176.02921599 176.5490447  169.53519183\n 176.41826587 169.63620136 167.01825064 168.46060452 167.92620739\n 163.13075835 175.61096528 175.16831824 172.7992099  172.79128268\n 167.35894528 175.7563233  176.53194927 174.96370934 174.52400677\n 169.49627644 175.42903918 170.43092545 176.06949147 169.11983663\n 169.19067956 161.76326223 173.66247084 169.03017417 164.16394529\n 164.64149047 168.74332513 169.81487572 175.64719834 177.46534692\n 169.67928527 169.93086005 174.57355726 168.72707392 163.20190848\n 169.46155302 169.03734408 169.90563431 161.80075479 170.43666277\n 167.82772674 168.59410583 162.9167018  161.16722797 171.01426549\n 164.30093436 163.53014682 167.96597599 162.25861233 162.04384401\n 169.20339444 168.01864959 169.46586198 169.977408   162.51250446\n 161.78990505 163.71840526 161.90677862 176.24498313 164.29165506\n 175.86837589 170.54921167 176.52918302 162.62099107 170.91895662\n 175.37205852 169.14616274 176.70403568 170.20010061 168.02508018\n 167.84150275 162.08747428 167.88352661 163.13320655 170.34111578\n 171.52685969 174.38555975 164.12330286 170.24215003 170.93190591\n 176.55790856 164.00835058 170.12819873 169.14887931 170.14635908\n 174.17010231 171.28217979 175.78052275 170.72631006 177.47661457\n 171.68159719 176.23348727 164.11578182 168.17107565 178.5659554\n 163.22810534 176.00483065 169.98522991 172.01446611 171.29061708\n 169.2529092  175.66791218 163.6193606  169.42282742 169.76851865\n 169.50335646 175.50036901 174.30655977 168.64648197 169.63082361\n 170.43359487 171.20138922 167.43389397 162.95841618 176.1709906\n 167.48811575 175.07743412 164.44600951 167.76499987 169.7834683\n 168.85579337 162.46226186 169.23171936 170.87361676 161.95853918\n 170.89815832 168.64765664 171.40666053 169.31704717 171.5653983\n 169.72408965 160.93887683 176.45749032 168.97764342 176.04730884\n 169.7444366  174.29069626 168.59552949 162.85746793 170.61308303\n 162.27901502 170.58766584 161.75544745 169.95530762 165.37564557\n 169.21906125 169.06215811 170.59755244 162.4306126  168.93620523\n 169.06160356 167.86713967 162.99887468 176.30981648 170.03657143\n 168.67399284 163.40549834 170.59345721 168.26019426 167.88926797\n 169.67974055 174.62557354 161.91920816 160.79487487 169.68970874].\nReshape your data either using array.reshape(-1, 1) if your data has a single feature or array.reshape(1, -1) if it contains a single sample."
     ]
    }
   ],
   "source": [
    "scaler = MinMaxScaler()\n",
    "scaler.fit(df[['Height']])\n",
    "df['Height'] = scaler.transform(df['Height'])\n",
    "\n",
    "\n",
    "scaler.fit(df[['Weight']])\n",
    "df['Weight'] = scaler.transform(df['Weight'])\n",
    "df"
   ]
  },
  {
   "cell_type": "code",
   "execution_count": 60,
   "id": "b74db35b",
   "metadata": {},
   "outputs": [
    {
     "data": {
      "text/plain": [
       "array([2, 2, 0, 0, 2, 0, 0, 0, 0, 1, 0, 2, 0, 1, 0, 0, 2, 0, 1, 0, 0, 2,\n",
       "       0, 1, 0, 1, 2, 0, 1, 0, 0, 0, 2, 0, 0, 2, 1, 0, 1, 2, 1, 0, 0, 2,\n",
       "       0, 2, 0, 0, 2, 2, 1, 1, 2, 0, 0, 0, 0, 1, 1, 2, 2, 1, 2, 2, 2, 0,\n",
       "       0, 2, 0, 0, 1, 0, 1, 2, 1, 2, 0, 0, 0, 0, 1, 0, 1, 0, 0, 0, 1, 1,\n",
       "       2, 1, 1, 1, 2, 1, 0, 0, 2, 2, 2, 0, 1, 1, 2, 1, 0, 0, 0, 2, 0, 1,\n",
       "       1, 0, 1, 1, 2, 1, 2, 0, 0, 2, 0, 1, 2, 2, 1, 2, 2, 2, 2, 1, 0, 1,\n",
       "       0, 1, 1, 1, 0, 2, 0, 0, 2, 2, 2, 2, 0, 1, 0, 0, 0, 1, 1, 2, 0, 0,\n",
       "       0, 0, 0, 2, 0, 0, 2, 0, 2, 2, 0, 0, 2, 0, 1, 0, 2, 1, 2, 0, 0, 1,\n",
       "       0, 1, 1, 1, 2, 2, 2, 0, 0, 1, 0, 2, 0, 1, 2, 0, 1, 0, 0, 1, 0, 0,\n",
       "       0, 1, 1, 0, 0, 0, 0, 0, 0, 0, 0, 2, 0, 2, 2, 2, 0, 2, 0, 1, 1, 1,\n",
       "       0, 2, 0, 1, 0, 2, 1, 0, 1, 0, 0, 0, 0, 0, 0, 0, 0, 0, 1, 2, 2, 0,\n",
       "       0, 2, 1, 1, 0, 2, 0, 0, 0, 0, 2, 1, 0, 1, 1, 0, 1, 0, 0, 0, 2, 1,\n",
       "       2, 2, 0, 0, 1, 2, 0, 1, 2, 0, 2, 1, 0, 0, 0, 2, 2, 0, 2, 0, 2, 0,\n",
       "       0, 2, 0, 0, 0, 2, 1, 1, 2, 1, 1, 1, 0, 2, 2, 1, 0, 1, 2, 2, 0, 1,\n",
       "       1, 0, 1, 0, 2, 0, 1, 0, 1, 0, 0, 0, 0, 0, 0, 0, 1, 2, 0, 0, 1, 2,\n",
       "       0, 0, 2, 2, 0, 2, 0, 0, 0, 0, 1, 2, 2, 0, 2, 0, 2, 2, 2, 2, 0, 2,\n",
       "       0, 2, 0, 0, 1, 2, 0, 1, 1, 0, 0, 2, 2, 0, 0, 2, 0, 1, 0, 0, 0, 1,\n",
       "       0, 0, 0, 1, 1, 0, 1, 1, 0, 1, 1, 0, 0, 0, 0, 1, 1, 1, 1, 2, 1, 2,\n",
       "       0, 2, 1, 0, 2, 0, 2, 0, 0, 0, 1, 0, 1, 0, 0, 2, 1, 0, 0, 2, 1, 0,\n",
       "       0, 0, 2, 0, 2, 0, 2, 0, 2, 1, 0, 2, 1, 2, 0, 0, 0, 0, 2, 1, 0, 0,\n",
       "       0, 2, 2, 0, 0, 0, 0, 0, 1, 2, 0, 2, 1, 0, 0, 0, 1, 0, 0, 1, 0, 0,\n",
       "       0, 0, 2, 0, 1, 2, 0, 2, 0, 2, 0, 1, 0, 1, 0, 1, 0, 1, 0, 0, 0, 1,\n",
       "       0, 0, 0, 1, 2, 0, 0, 1, 0, 0, 0, 0, 2, 1, 1, 0])"
      ]
     },
     "execution_count": 60,
     "metadata": {},
     "output_type": "execute_result"
    }
   ],
   "source": [
    "km = KMeans(n_clusters=3)\n",
    "y_predicted = km.fit_predict(df[['Weight','Height']])\n",
    "y_predicted"
   ]
  },
  {
   "cell_type": "code",
   "execution_count": 61,
   "id": "31a59d5e",
   "metadata": {},
   "outputs": [
    {
     "data": {
      "text/html": [
       "<div>\n",
       "<style scoped>\n",
       "    .dataframe tbody tr th:only-of-type {\n",
       "        vertical-align: middle;\n",
       "    }\n",
       "\n",
       "    .dataframe tbody tr th {\n",
       "        vertical-align: top;\n",
       "    }\n",
       "\n",
       "    .dataframe thead th {\n",
       "        text-align: right;\n",
       "    }\n",
       "</style>\n",
       "<table border=\"1\" class=\"dataframe\">\n",
       "  <thead>\n",
       "    <tr style=\"text-align: right;\">\n",
       "      <th></th>\n",
       "      <th>Weight</th>\n",
       "      <th>Height</th>\n",
       "      <th>cluster</th>\n",
       "    </tr>\n",
       "  </thead>\n",
       "  <tbody>\n",
       "    <tr>\n",
       "      <th>0</th>\n",
       "      <td>67.062924</td>\n",
       "      <td>176.086355</td>\n",
       "      <td>2</td>\n",
       "    </tr>\n",
       "    <tr>\n",
       "      <th>1</th>\n",
       "      <td>68.804094</td>\n",
       "      <td>178.388669</td>\n",
       "      <td>2</td>\n",
       "    </tr>\n",
       "    <tr>\n",
       "      <th>2</th>\n",
       "      <td>60.930863</td>\n",
       "      <td>170.284496</td>\n",
       "      <td>0</td>\n",
       "    </tr>\n",
       "    <tr>\n",
       "      <th>3</th>\n",
       "      <td>59.733843</td>\n",
       "      <td>168.691992</td>\n",
       "      <td>0</td>\n",
       "    </tr>\n",
       "    <tr>\n",
       "      <th>4</th>\n",
       "      <td>65.431230</td>\n",
       "      <td>173.763679</td>\n",
       "      <td>2</td>\n",
       "    </tr>\n",
       "    <tr>\n",
       "      <th>...</th>\n",
       "      <td>...</td>\n",
       "      <td>...</td>\n",
       "      <td>...</td>\n",
       "    </tr>\n",
       "    <tr>\n",
       "      <th>495</th>\n",
       "      <td>59.976983</td>\n",
       "      <td>169.679741</td>\n",
       "      <td>0</td>\n",
       "    </tr>\n",
       "    <tr>\n",
       "      <th>496</th>\n",
       "      <td>66.423814</td>\n",
       "      <td>174.625574</td>\n",
       "      <td>2</td>\n",
       "    </tr>\n",
       "    <tr>\n",
       "      <th>497</th>\n",
       "      <td>53.604698</td>\n",
       "      <td>161.919208</td>\n",
       "      <td>1</td>\n",
       "    </tr>\n",
       "    <tr>\n",
       "      <th>498</th>\n",
       "      <td>50.433644</td>\n",
       "      <td>160.794875</td>\n",
       "      <td>1</td>\n",
       "    </tr>\n",
       "    <tr>\n",
       "      <th>499</th>\n",
       "      <td>60.224392</td>\n",
       "      <td>169.689709</td>\n",
       "      <td>0</td>\n",
       "    </tr>\n",
       "  </tbody>\n",
       "</table>\n",
       "<p>500 rows × 3 columns</p>\n",
       "</div>"
      ],
      "text/plain": [
       "        Weight      Height  cluster\n",
       "0    67.062924  176.086355        2\n",
       "1    68.804094  178.388669        2\n",
       "2    60.930863  170.284496        0\n",
       "3    59.733843  168.691992        0\n",
       "4    65.431230  173.763679        2\n",
       "..         ...         ...      ...\n",
       "495  59.976983  169.679741        0\n",
       "496  66.423814  174.625574        2\n",
       "497  53.604698  161.919208        1\n",
       "498  50.433644  160.794875        1\n",
       "499  60.224392  169.689709        0\n",
       "\n",
       "[500 rows x 3 columns]"
      ]
     },
     "execution_count": 61,
     "metadata": {},
     "output_type": "execute_result"
    }
   ],
   "source": [
    "df['cluster'] = y_predicted\n",
    "df"
   ]
  },
  {
   "cell_type": "code",
   "execution_count": 63,
   "id": "089cf116",
   "metadata": {},
   "outputs": [
    {
     "data": {
      "text/plain": [
       "array([[ 61.91101547, 169.61922731],\n",
       "       [ 53.60029808, 162.76478198],\n",
       "       [ 67.48040873, 175.86017523]])"
      ]
     },
     "execution_count": 63,
     "metadata": {},
     "output_type": "execute_result"
    }
   ],
   "source": [
    "km.cluster_centers_"
   ]
  },
  {
   "cell_type": "code",
   "execution_count": 75,
   "id": "916fcfe7",
   "metadata": {},
   "outputs": [
    {
     "data": {
      "text/plain": [
       "<matplotlib.legend.Legend at 0x243bf07c7f0>"
      ]
     },
     "execution_count": 75,
     "metadata": {},
     "output_type": "execute_result"
    },
    {
     "data": {
      "image/png": "[encoded data removed]",
      "text/plain": [
       "<Figure size 432x288 with 1 Axes>"
      ]
     },
     "metadata": {
      "needs_background": "light"
     },
     "output_type": "display_data"
    }
   ],
   "source": [
    "df1 = df[df.cluster == 0]\n",
    "df2 = df[df.cluster == 1]\n",
    "df3 = df[df.cluster == 2]\n",
    "plt.scatter(df1.Weight, df1['Height'],color = 'green',label = 'Height')\n",
    "plt.scatter(df2.Weight, df2['Height'],color = 'red',label = 'Height')\n",
    "plt.scatter(df3.Weight, df3['Height'],color = 'blue',label = 'Height')\n",
    "\n",
    "plt.xlabel('Weight')\n",
    "plt.ylabel('Height')\n",
    "\n",
    "plt.scatter(km.cluster_centers_[:,0],km.cluster_centers_[:,1],color= 'pink',marker='.',s=500,label='centroid')\n",
    "\n",
    "plt.legend()"
   ]
  },
  {
   "cell_type": "code",
   "execution_count": 86,
   "id": "8b3438f0",
   "metadata": {},
   "outputs": [
    {
     "data": {
      "text/plain": [
       "[24998.64940648522,\n",
       " 7591.182625661997,\n",
       " 1677.0495537226552,\n",
       " 1134.4034038422283,\n",
       " 958.2734006484146,\n",
       " 797.9886396801915,\n",
       " 654.8014715037132,\n",
       " 532.3209711918264,\n",
       " 464.17208573919226]"
      ]
     },
     "execution_count": 86,
     "metadata": {},
     "output_type": "execute_result"
    }
   ],
   "source": [
    "k_rng = range(1,10)\n",
    "sse = []\n",
    "for k in k_rng:\n",
    "    km = KMeans(n_clusters=k)\n",
    "    km.fit(df[['Weight','Height']])\n",
    "    sse.append(km.inertia_)\n",
    "sse"
   ]
  },
  {
   "cell_type": "code",
   "execution_count": 87,
   "id": "c2f4cada",
   "metadata": {},
   "outputs": [
    {
     "data": {
      "text/plain": [
       "[<matplotlib.lines.Line2D at 0x243bf8cc7c0>]"
      ]
     },
     "execution_count": 87,
     "metadata": {},
     "output_type": "execute_result"
    },
    {
     "data": {
      "image/png": "[encoded data removed]",
      "text/plain": [
       "<Figure size 432x288 with 1 Axes>"
      ]
     },
     "metadata": {
      "needs_background": "light"
     },
     "output_type": "display_data"
    }
   ],
   "source": [
    "plt.xlabel('k')\n",
    "plt.ylabel('sum of squared error')\n",
    "plt.plot(k_rng,sse)"
   ]
  }
 ],
 "metadata": {
  "kernelspec": {
   "display_name": "Python 3 (ipykernel)",
   "language": "python",
   "name": "python3"
  },
  "language_info": {
   "codemirror_mode": {
    "name": "ipython",
    "version": 3
   },
   "file_extension": ".py",
   "mimetype": "text/x-python",
   "name": "python",
   "nbconvert_exporter": "python",
   "pygments_lexer": "ipython3",
   "version": "3.10.1"
  }
 },
 "nbformat": 4,
 "nbformat_minor": 5
}
