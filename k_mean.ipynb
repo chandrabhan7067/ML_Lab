{
 "cells": [
  {
   "cell_type": "code",
   "execution_count": 2,
   "id": "53be78d6",
   "metadata": {},
   "outputs": [],
   "source": [
    "import pandas as pd"
   ]
  },
  {
   "cell_type": "code",
   "execution_count": 3,
   "id": "11ea3be3",
   "metadata": {},
   "outputs": [],
   "source": [
    "import numpy as np"
   ]
  },
  {
   "cell_type": "code",
   "execution_count": 25,
   "id": "543a4b3e",
   "metadata": {},
   "outputs": [],
   "source": [
    "import matplotlib.pyplot as plt"
   ]
  },
  {
   "cell_type": "code",
   "execution_count": 28,
   "id": "af07895a",
   "metadata": {},
   "outputs": [],
   "source": [
    "from sklearn.cluster import KMeans"
   ]
  },
  {
   "cell_type": "code",
   "execution_count": 29,
   "id": "a3cf08b6",
   "metadata": {},
   "outputs": [],
   "source": [
    "from sklearn.preprocessing import MinMaxScaler"
   ]
  },
  {
   "cell_type": "code",
   "execution_count": 30,
   "id": "d7b178e4",
   "metadata": {},
   "outputs": [],
   "source": [
    "%matplotlib inline"
   ]
  },
  {
   "cell_type": "code",
   "execution_count": 31,
   "id": "bbc839f8",
   "metadata": {},
   "outputs": [],
   "source": [
    "df = pd.read_csv('Clustering_gmm.csv')"
   ]
  },
  {
   "cell_type": "code",
   "execution_count": 32,
   "id": "8e75cd30",
   "metadata": {},
   "outputs": [
    {
     "data": {
      "text/html": [
       "<div>\n",
       "<style scoped>\n",
       "    .dataframe tbody tr th:only-of-type {\n",
       "        vertical-align: middle;\n",
       "    }\n",
       "\n",
       "    .dataframe tbody tr th {\n",
       "        vertical-align: top;\n",
       "    }\n",
       "\n",
       "    .dataframe thead th {\n",
       "        text-align: right;\n",
       "    }\n",
       "</style>\n",
       "<table border=\"1\" class=\"dataframe\">\n",
       "  <thead>\n",
       "    <tr style=\"text-align: right;\">\n",
       "      <th></th>\n",
       "      <th>Weight</th>\n",
       "      <th>Height</th>\n",
       "    </tr>\n",
       "  </thead>\n",
       "  <tbody>\n",
       "    <tr>\n",
       "      <th>0</th>\n",
       "      <td>67.062924</td>\n",
       "      <td>176.086355</td>\n",
       "    </tr>\n",
       "    <tr>\n",
       "      <th>1</th>\n",
       "      <td>68.804094</td>\n",
       "      <td>178.388669</td>\n",
       "    </tr>\n",
       "    <tr>\n",
       "      <th>2</th>\n",
       "      <td>60.930863</td>\n",
       "      <td>170.284496</td>\n",
       "    </tr>\n",
       "    <tr>\n",
       "      <th>3</th>\n",
       "      <td>59.733843</td>\n",
       "      <td>168.691992</td>\n",
       "    </tr>\n",
       "    <tr>\n",
       "      <th>4</th>\n",
       "      <td>65.431230</td>\n",
       "      <td>173.763679</td>\n",
       "    </tr>\n",
       "  </tbody>\n",
       "</table>\n",
       "</div>"
      ],
      "text/plain": [
       "      Weight      Height\n",
       "0  67.062924  176.086355\n",
       "1  68.804094  178.388669\n",
       "2  60.930863  170.284496\n",
       "3  59.733843  168.691992\n",
       "4  65.431230  173.763679"
      ]
     },
     "execution_count": 32,
     "metadata": {},
     "output_type": "execute_result"
    }
   ],
   "source": [
    "df.head()"
   ]
  },
  {
   "cell_type": "code",
   "execution_count": 33,
   "id": "c6eebb6b",
   "metadata": {},
   "outputs": [
    {
     "data": {
      "text/plain": [
       "<matplotlib.collections.PathCollection at 0x243b79f9780>"
      ]
     },
     "execution_count": 33,
     "metadata": {},
     "output_type": "execute_result"
    },
    {
     "data": {
      "image/png": "[encoded data removed]",
      "text/plain": [
       "<Figure size 432x288 with 1 Axes>"
      ]
     },
     "metadata": {
      "needs_background": "light"
     },
     "output_type": "display_data"
    }
   ],
   "source": [
    "plt.scatter(df['Weight'],df['Height'])"
   ]
  },
  {
   "cell_type": "code",
   "execution_count": 41,
   "id": "4e20a8fb",
   "metadata": {},
   "outputs": [
    {
     "data": {
      "text/plain": [
       "KMeans(n_clusters=3)"
      ]
     },
     "execution_count": 41,
     "metadata": {},
     "output_type": "execute_result"
    }
   ],
   "source": [
    "km = KMeans(n_clusters=3)\n",
    "km"
   ]
  },
  {
   "cell_type": "code",
   "execution_count": 42,
   "id": "66f21163",
   "metadata": {},
   "outputs": [
    {
     "data": {
      "text/plain": [
       "KMeans(n_clusters=3)"
      ]
     },
     "execution_count": 42,
     "metadata": {},
     "output_type": "execute_result"
    }
   ],
   "source": [
    "km"
   ]
  },
  {
   "cell_type": "code",
   "execution_count": 43,
   "id": "53d10c40",
   "metadata": {},
   "outputs": [
    {
     "data": {
      "text/plain": [
       "array([2, 2, 0, 0, 2, 0, 0, 0, 0, 1, 0, 2, 0, 1, 0, 0, 2, 0, 1, 0, 0, 2,\n",
       "       0, 1, 0, 1, 2, 0, 1, 0, 0, 0, 2, 0, 0, 2, 1, 0, 1, 2, 1, 0, 0, 2,\n",
       "       0, 2, 0, 0, 2, 2, 1, 1, 2, 0, 0, 0, 0, 1, 1, 2, 2, 1, 2, 2, 2, 0,\n",
       "       0, 2, 0, 0, 1, 0, 1, 2, 1, 2, 0, 0, 0, 0, 1, 0, 1, 0, 0, 0, 1, 1,\n",
       "       2, 1, 1, 1, 2, 1, 0, 0, 2, 2, 2, 0, 1, 1, 2, 1, 0, 0, 0, 2, 0, 1,\n",
       "       1, 0, 1, 1, 2, 1, 2, 0, 0, 2, 0, 1, 2, 2, 1, 2, 2, 2, 2, 1, 0, 1,\n",
       "       0, 1, 1, 1, 0, 2, 0, 0, 2, 2, 2, 2, 0, 1, 0, 0, 0, 1, 1, 2, 0, 0,\n",
       "       0, 0, 0, 2, 0, 0, 2, 0, 2, 2, 0, 0, 2, 0, 1, 0, 2, 1, 2, 0, 0, 1,\n",
       "       0, 1, 1, 1, 2, 2, 2, 0, 0, 1, 0, 2, 0, 1, 2, 0, 1, 0, 0, 1, 0, 0,\n",
       "       0, 1, 1, 0, 0, 0, 0, 0, 0, 0, 0, 2, 0, 2, 2, 2, 0, 2, 0, 1, 1, 1,\n",
       "       0, 2, 0, 1, 0, 2, 1, 0, 1, 0, 0, 0, 0, 0, 0, 0, 0, 0, 1, 2, 2, 0,\n",
       "       0, 2, 1, 1, 0, 2, 0, 0, 0, 0, 2, 1, 0, 1, 1, 0, 1, 0, 0, 0, 2, 1,\n",
       "       2, 2, 0, 0, 1, 2, 0, 1, 2, 0, 2, 1, 0, 0, 0, 2, 2, 0, 2, 0, 2, 0,\n",
       "       0, 2, 0, 0, 0, 2, 1, 1, 2, 1, 1, 1, 0, 2, 2, 1, 0, 1, 2, 2, 0, 1,\n",
       "       1, 0, 1, 0, 2, 0, 1, 0, 1, 0, 0, 0, 0, 0, 0, 0, 1, 2, 0, 0, 1, 2,\n",
       "       0, 0, 2, 2, 0, 2, 0, 0, 0, 0, 1, 2, 2, 0, 2, 0, 2, 2, 2, 2, 0, 2,\n",
       "       0, 2, 0, 0, 1, 2, 0, 1, 1, 0, 0, 2, 2, 0, 0, 2, 0, 1, 0, 0, 0, 1,\n",
       "       0, 0, 0, 1, 1, 0, 1, 1, 0, 1, 1, 0, 0, 0, 0, 1, 1, 1, 1, 2, 1, 2,\n",
       "       0, 2, 1, 0, 2, 0, 2, 0, 0, 0, 1, 0, 1, 0, 0, 2, 1, 0, 0, 2, 1, 0,\n",
       "       0, 0, 2, 0, 2, 0, 2, 0, 2, 1, 0, 2, 1, 2, 0, 0, 0, 0, 2, 1, 0, 0,\n",
       "       0, 2, 2, 0, 0, 0, 0, 0, 1, 2, 0, 2, 1, 0, 0, 0, 1, 0, 0, 1, 0, 0,\n",
       "       0, 0, 2, 0, 1, 2, 0, 2, 0, 2, 0, 1, 0, 1, 0, 1, 0, 1, 0, 0, 0, 1,\n",
       "       0, 0, 0, 1, 2, 0, 0, 1, 0, 0, 0, 0, 2, 1, 1, 0])"
      ]
     },
     "execution_count": 43,
     "metadata": {},
     "output_type": "execute_result"
    }
   ],
   "source": [
    "y_predicted = km.fit_predict(df[['Weight','Height']])\n",
    "y_predicted"
   ]
  },
  {
   "cell_type": "code",
   "execution_count": 44,
   "id": "8e599ad0",
   "metadata": {},
   "outputs": [
    {
     "data": {
      "text/html": [
       "<div>\n",
       "<style scoped>\n",
       "    .dataframe tbody tr th:only-of-type {\n",
       "        vertical-align: middle;\n",
       "    }\n",
       "\n",
       "    .dataframe tbody tr th {\n",
       "        vertical-align: top;\n",
       "    }\n",
       "\n",
       "    .dataframe thead th {\n",
       "        text-align: right;\n",
       "    }\n",
       "</style>\n",
       "<table border=\"1\" class=\"dataframe\">\n",
       "  <thead>\n",
       "    <tr style=\"text-align: right;\">\n",
       "      <th></th>\n",
       "      <th>Weight</th>\n",
       "      <th>Height</th>\n",
       "      <th>cluster</th>\n",
       "    </tr>\n",
       "  </thead>\n",
       "  <tbody>\n",
       "    <tr>\n",
       "      <th>0</th>\n",
       "      <td>67.062924</td>\n",
       "      <td>176.086355</td>\n",
       "      <td>2</td>\n",
       "    </tr>\n",
       "    <tr>\n",
       "      <th>1</th>\n",
       "      <td>68.804094</td>\n",
       "      <td>178.388669</td>\n",
       "      <td>2</td>\n",
       "    </tr>\n",
       "    <tr>\n",
       "      <th>2</th>\n",
       "      <td>60.930863</td>\n",
       "      <td>170.284496</td>\n",
       "      <td>0</td>\n",
       "    </tr>\n",
       "    <tr>\n",
       "      <th>3</th>\n",
       "      <td>59.733843</td>\n",
       "      <td>168.691992</td>\n",
       "      <td>0</td>\n",
       "    </tr>\n",
       "    <tr>\n",
       "      <th>4</th>\n",
       "      <td>65.431230</td>\n",
       "      <td>173.763679</td>\n",
       "      <td>2</td>\n",
       "    </tr>\n",
       "  </tbody>\n",
       "</table>\n",
       "</div>"
      ],
      "text/plain": [
       "      Weight      Height  cluster\n",
       "0  67.062924  176.086355        2\n",
       "1  68.804094  178.388669        2\n",
       "2  60.930863  170.284496        0\n",
       "3  59.733843  168.691992        0\n",
       "4  65.431230  173.763679        2"
      ]
     },
     "execution_count": 44,
     "metadata": {},
     "output_type": "execute_result"
    }
   ],
   "source": [
    "df['cluster'] = y_predicted\n",
    "df.head()"
   ]
  },
  {
   "cell_type": "code",
   "execution_count": 88,
   "id": "ac80ff4e",
   "metadata": {},
   "outputs": [],
   "source": [
    "df1 = df[df.cluster == 0]\n",
    "df2 = df[df.cluster == 1]\n",
    "df3 = df[df.cluster == 2]"
   ]
  },
  {
   "cell_type": "code",
   "execution_count": 89,
   "id": "200d4f66",
   "metadata": {},
   "outputs": [
    {
     "data": {
      "text/plain": [
       "<matplotlib.legend.Legend at 0x243bf8c4af0>"
      ]
     },
     "execution_count": 89,
     "metadata": {},
     "output_type": "execute_result"
    },
    {
     "data": {
      "image/png": "[encoded data removed]",
      "text/plain": [
       "<Figure size 432x288 with 1 Axes>"
      ]
     },
     "metadata": {
      "needs_background": "light"
     },
     "output_type": "display_data"
    }
   ],
   "source": [
    "plt.scatter(df1.Weight, df1['Height'],color = 'green',label = 'Height')\n",
    "plt.scatter(df2.Weight, df2['Height'],color = 'red',label = 'Height')\n",
    "plt.scatter(df3.Weight, df3['Height'],color = 'blue',label = 'Height')\n",
    "\n",
    "plt.xlabel('Weight')\n",
    "plt.ylabel('Height')\n",
    "\n",
    "plt.legend()\n"
   ]
  },
  {
   "cell_type": "code",
   "execution_count": 105,
   "id": "16576470",
   "metadata": {},
   "outputs": [
    {
     "name": "stderr",
     "output_type": "stream",
     "text": [
      "C:\\Users\\Lenovo\\AppData\\Local\\Programs\\Python\\Python310\\lib\\site-packages\\sklearn\\base.py:450: UserWarning: X does not have valid feature names, but MinMaxScaler was fitted with feature names\n",
      "  warnings.warn(\n"
     ]
    },
    {
     "ename": "ValueError",
     "evalue": "Expected 2D array, got 1D array instead:\narray=[67.06292382 68.80409404 60.93086317 59.73384301 65.43123003 61.57716033\n 63.34186626 61.04164336 62.63362335 53.40785962 62.93820031 68.5548571\n 65.1630426  53.44601711 60.65937349 59.17655435 67.16384091 60.6270339\n 53.96476395 60.35999202 59.85687102 68.02783468 64.59160046 53.55139341\n 60.44702902 54.83092473 69.30872116 62.73255209 54.18683143 62.62977223\n 64.44201493 64.51477257 68.86502846 63.88109247 62.47848649 70.69177381\n 53.55726809 62.28600868 54.01520331 68.01439661 52.06898888 62.38717375\n 59.35486355 68.54273845 64.38072382 67.62212014 62.61540394 60.98457787\n 67.79216223 68.0997396  53.51571683 53.29266169 66.45506155 62.29651635\n 58.70446347 62.79487742 64.04290009 53.29334143 54.24470276 67.17963143\n 67.32285129 54.57705626 67.89054867 67.20385558 68.71053654 63.02658071\n 59.7328874  66.86554278 60.26584458 63.9956032  51.62855362 61.03111676\n 51.79823342 68.25373169 52.1307295  68.7427972  63.64009622 63.75465324\n 61.17689903 61.33824368 53.61670245 61.57051766 54.20840156 62.06093508\n 59.75761312 64.43404739 53.35527708 54.45472275 65.98361013 53.88228842\n 53.71377385 55.46345663 67.69554158 54.08461307 59.25959276 60.96913011\n 67.01882016 69.98575252 66.76407728 61.06155202 52.1346691  54.62612906\n 66.81686469 54.06062459 60.66434742 58.62404679 61.85781376 68.35007074\n 61.13889779 54.6434248  53.99848734 62.5381549  54.07585096 54.62194554\n 68.00440667 52.84806374 67.09327377 59.07709357 65.40651892 67.29406412\n 62.97504329 53.50985446 66.40019392 67.96728218 53.68859732 67.30893189\n 67.36510129 67.77255436 67.09105858 54.09931856 59.78992597 53.49238881\n 63.48084078 52.79000647 54.6180984  54.34913719 60.94261063 68.59159925\n 61.13702427 64.40007272 67.67362809 67.46850179 66.29926203 67.33806827\n 62.69965507 53.9188512  62.03290375 60.98438543 63.63772959 53.64777969\n 56.07878065 66.52404495 60.58832099 60.59891665 58.52560452 63.40716934\n 62.69655843 67.74310336 61.62249167 59.08541212 68.22783139 61.29758686\n 65.51411042 65.60708637 63.52051969 64.32816532 70.58917621 60.93872684\n 53.57177577 64.23114558 68.61522147 53.1659888  67.77719511 63.29696904\n 62.68180921 51.61126053 62.07209064 52.02031483 51.45486291 53.79428019\n 69.30970387 67.77332753 64.91689702 59.26676455 61.92664491 54.29603153\n 63.46931307 67.47354206 63.79206558 55.19270847 67.23670988 63.33743282\n 51.19121822 62.84988265 64.23417029 52.46291016 60.88269412 62.4885472\n 60.50801148 55.70336525 54.63386799 60.12186693 61.33353651 63.67714156\n 59.01872036 63.43110154 65.35138573 58.42839558 62.80689868 66.22830497\n 61.91773119 67.474964   66.5859165  65.95668083 59.59360454 69.37718464\n 65.34201141 53.21225375 54.30135937 53.48530985 62.00825988 66.92206599\n 63.79357111 54.27551463 63.07615877 66.17340796 53.98214572 59.75346718\n 54.8930747  61.87636361 64.08904127 62.58956277 61.67624061 64.12618851\n 58.43126174 62.37823547 59.37242056 64.60416075 52.73786924 66.74415461\n 64.79483343 63.66298293 62.0889063  69.1051671  53.30571484 55.38472731\n 60.1147989  68.31331707 61.09049614 62.53286576 61.56022329 63.84377454\n 67.89722833 52.04843236 59.66599305 54.59528523 53.60265818 63.37828615\n 54.01996604 62.83451114 61.05029669 58.37499402 67.52585273 52.4837075\n 67.4154626  65.09732431 61.47937021 61.09291895 53.1032692  69.06938297\n 61.20805315 53.3244312  67.73089441 61.63593169 67.09357794 52.36732805\n 62.33914476 62.64753647 59.93594368 67.66410168 66.92767867 59.41930796\n 67.25087401 62.16665036 67.50067102 60.39660739 63.00187062 66.81044635\n 60.00440336 61.15835514 61.63436998 67.96672169 51.218957   53.48342625\n 67.95956341 51.04849712 52.54449299 53.20888266 60.24704247 66.64006841\n 69.07751187 53.61983928 62.21454705 50.90010702 66.89438629 67.86072872\n 63.32045968 54.98613263 54.61787309 58.86670115 53.46338785 62.45953375\n 66.73492301 62.01459378 53.98628714 64.26407458 53.26378665 60.70181549\n 62.68378913 60.27641074 60.19396512 60.34419134 65.01053039 62.34679923\n 51.9694277  68.49549904 60.8396701  64.13953206 52.61859693 67.06546466\n 60.60920184 61.19355528 68.31366965 68.37307951 63.91372915 67.6023751\n 64.10504753 62.04066802 59.50773779 62.60736073 53.81929866 66.15365875\n 66.68878596 63.20959635 65.93930765 58.33746129 67.88567579 67.47850232\n 66.10418981 67.18057325 58.5763917  66.98557392 60.38893319 67.1390347\n 59.88470167 60.20871922 53.66974121 64.59402463 60.32698144 54.95854012\n 55.78418374 61.98277636 59.94226847 66.27936701 68.3197989  63.62892367\n 63.27195154 67.11323909 61.58111416 53.87865097 60.59936267 60.55147599\n 60.95494339 53.07347272 60.38775433 61.94025949 59.65626521 53.37214501\n 52.43346761 61.72456567 55.72952021 53.88646126 61.83381934 53.29567664\n 54.83743149 62.75594323 61.23777598 64.44722284 63.6370423  53.6909829\n 51.93191853 54.30190657 52.76233651 68.9399226  55.23134414 68.23162724\n 61.18875689 66.87638017 53.16425833 61.41083369 68.51076902 60.03762101\n 68.77251194 60.27049451 61.15951099 62.72521586 52.6204304  59.80644187\n 53.82852066 64.71615408 63.27181363 66.42567332 55.25747049 63.37068428\n 61.53169451 68.82034877 54.42748332 63.54388296 63.67818987 61.47124921\n 65.46363691 61.62398264 67.20805367 64.71116428 68.86951817 62.52978917\n 69.18182154 54.90871823 61.22278644 70.70045601 53.64156384 68.01287432\n 61.09873016 65.17734527 62.65066202 63.17825525 67.30844404 54.58187876\n 59.58019937 60.84648598 63.09010997 67.74120609 65.96768802 60.07987124\n 60.63560901 64.60322547 61.51709899 61.59487708 53.93604304 67.50974602\n 62.58812751 66.24192891 54.83016895 61.6264852  65.1741325  62.56454424\n 54.08443765 64.60678733 59.73678261 53.04365887 65.27157378 62.91019878\n 65.90628614 63.69916616 66.71668644 60.20778242 51.62941503 67.39211263\n 64.12844099 67.56170534 59.90378948 67.02070622 62.21934419 53.4285397\n 60.40445993 52.67740821 63.98253612 52.51487819 59.51156193 55.25345356\n 60.86989664 62.6667093  65.11366267 53.57849546 63.27932975 62.20775653\n 61.39285936 54.06916342 66.37324782 63.17097366 62.28468417 55.22303859\n 62.31115416 61.84889365 62.20036242 59.97698273 66.42381443 53.60469782\n 50.43364367 60.22439201].\nReshape your data either using array.reshape(-1, 1) if your data has a single feature or array.reshape(1, -1) if it contains a single sample.",
     "output_type": "error",
     "traceback": [
      "\u001b[1;31m---------------------------------------------------------------------------\u001b[0m",
      "\u001b[1;31mValueError\u001b[0m                                Traceback (most recent call last)",
      "Input \u001b[1;32mIn [105]\u001b[0m, in \u001b[0;36m<cell line: 2>\u001b[1;34m()\u001b[0m\n\u001b[0;32m      1\u001b[0m scaler\u001b[38;5;241m.\u001b[39mfit(df[[\u001b[38;5;124m'\u001b[39m\u001b[38;5;124mWeight\u001b[39m\u001b[38;5;124m'\u001b[39m]])\n\u001b[1;32m----> 2\u001b[0m df[\u001b[38;5;124m'\u001b[39m\u001b[38;5;124mWeight\u001b[39m\u001b[38;5;124m'\u001b[39m] \u001b[38;5;241m=\u001b[39m \u001b[43mscaler\u001b[49m\u001b[38;5;241;43m.\u001b[39;49m\u001b[43mtransform\u001b[49m\u001b[43m(\u001b[49m\u001b[43mdf\u001b[49m\u001b[43m[\u001b[49m\u001b[38;5;124;43m'\u001b[39;49m\u001b[38;5;124;43mWeight\u001b[39;49m\u001b[38;5;124;43m'\u001b[39;49m\u001b[43m]\u001b[49m\u001b[43m)\u001b[49m\n\u001b[0;32m      3\u001b[0m df\n",
      "File \u001b[1;32m~\\AppData\\Local\\Programs\\Python\\Python310\\lib\\site-packages\\sklearn\\preprocessing\\_data.py:496\u001b[0m, in \u001b[0;36mMinMaxScaler.transform\u001b[1;34m(self, X)\u001b[0m\n\u001b[0;32m    482\u001b[0m \u001b[38;5;124;03m\"\"\"Scale features of X according to feature_range.\u001b[39;00m\n\u001b[0;32m    483\u001b[0m \n\u001b[0;32m    484\u001b[0m \u001b[38;5;124;03mParameters\u001b[39;00m\n\u001b[1;32m   (...)\u001b[0m\n\u001b[0;32m    492\u001b[0m \u001b[38;5;124;03m    Transformed data.\u001b[39;00m\n\u001b[0;32m    493\u001b[0m \u001b[38;5;124;03m\"\"\"\u001b[39;00m\n\u001b[0;32m    494\u001b[0m check_is_fitted(\u001b[38;5;28mself\u001b[39m)\n\u001b[1;32m--> 496\u001b[0m X \u001b[38;5;241m=\u001b[39m \u001b[38;5;28;43mself\u001b[39;49m\u001b[38;5;241;43m.\u001b[39;49m\u001b[43m_validate_data\u001b[49m\u001b[43m(\u001b[49m\n\u001b[0;32m    497\u001b[0m \u001b[43m    \u001b[49m\u001b[43mX\u001b[49m\u001b[43m,\u001b[49m\n\u001b[0;32m    498\u001b[0m \u001b[43m    \u001b[49m\u001b[43mcopy\u001b[49m\u001b[38;5;241;43m=\u001b[39;49m\u001b[38;5;28;43mself\u001b[39;49m\u001b[38;5;241;43m.\u001b[39;49m\u001b[43mcopy\u001b[49m\u001b[43m,\u001b[49m\n\u001b[0;32m    499\u001b[0m \u001b[43m    \u001b[49m\u001b[43mdtype\u001b[49m\u001b[38;5;241;43m=\u001b[39;49m\u001b[43mFLOAT_DTYPES\u001b[49m\u001b[43m,\u001b[49m\n\u001b[0;32m    500\u001b[0m \u001b[43m    \u001b[49m\u001b[43mforce_all_finite\u001b[49m\u001b[38;5;241;43m=\u001b[39;49m\u001b[38;5;124;43m\"\u001b[39;49m\u001b[38;5;124;43mallow-nan\u001b[39;49m\u001b[38;5;124;43m\"\u001b[39;49m\u001b[43m,\u001b[49m\n\u001b[0;32m    501\u001b[0m \u001b[43m    \u001b[49m\u001b[43mreset\u001b[49m\u001b[38;5;241;43m=\u001b[39;49m\u001b[38;5;28;43;01mFalse\u001b[39;49;00m\u001b[43m,\u001b[49m\n\u001b[0;32m    502\u001b[0m \u001b[43m\u001b[49m\u001b[43m)\u001b[49m\n\u001b[0;32m    504\u001b[0m X \u001b[38;5;241m*\u001b[39m\u001b[38;5;241m=\u001b[39m \u001b[38;5;28mself\u001b[39m\u001b[38;5;241m.\u001b[39mscale_\n\u001b[0;32m    505\u001b[0m X \u001b[38;5;241m+\u001b[39m\u001b[38;5;241m=\u001b[39m \u001b[38;5;28mself\u001b[39m\u001b[38;5;241m.\u001b[39mmin_\n",
      "File \u001b[1;32m~\\AppData\\Local\\Programs\\Python\\Python310\\lib\\site-packages\\sklearn\\base.py:566\u001b[0m, in \u001b[0;36mBaseEstimator._validate_data\u001b[1;34m(self, X, y, reset, validate_separately, **check_params)\u001b[0m\n\u001b[0;32m    564\u001b[0m     \u001b[38;5;28;01mraise\u001b[39;00m \u001b[38;5;167;01mValueError\u001b[39;00m(\u001b[38;5;124m\"\u001b[39m\u001b[38;5;124mValidation should be done on X, y or both.\u001b[39m\u001b[38;5;124m\"\u001b[39m)\n\u001b[0;32m    565\u001b[0m \u001b[38;5;28;01melif\u001b[39;00m \u001b[38;5;129;01mnot\u001b[39;00m no_val_X \u001b[38;5;129;01mand\u001b[39;00m no_val_y:\n\u001b[1;32m--> 566\u001b[0m     X \u001b[38;5;241m=\u001b[39m check_array(X, \u001b[38;5;241m*\u001b[39m\u001b[38;5;241m*\u001b[39mcheck_params)\n\u001b[0;32m    567\u001b[0m     out \u001b[38;5;241m=\u001b[39m X\n\u001b[0;32m    568\u001b[0m \u001b[38;5;28;01melif\u001b[39;00m no_val_X \u001b[38;5;129;01mand\u001b[39;00m \u001b[38;5;129;01mnot\u001b[39;00m no_val_y:\n",
      "File \u001b[1;32m~\\AppData\\Local\\Programs\\Python\\Python310\\lib\\site-packages\\sklearn\\utils\\validation.py:769\u001b[0m, in \u001b[0;36mcheck_array\u001b[1;34m(array, accept_sparse, accept_large_sparse, dtype, order, copy, force_all_finite, ensure_2d, allow_nd, ensure_min_samples, ensure_min_features, estimator)\u001b[0m\n\u001b[0;32m    767\u001b[0m     \u001b[38;5;66;03m# If input is 1D raise error\u001b[39;00m\n\u001b[0;32m    768\u001b[0m     \u001b[38;5;28;01mif\u001b[39;00m array\u001b[38;5;241m.\u001b[39mndim \u001b[38;5;241m==\u001b[39m \u001b[38;5;241m1\u001b[39m:\n\u001b[1;32m--> 769\u001b[0m         \u001b[38;5;28;01mraise\u001b[39;00m \u001b[38;5;167;01mValueError\u001b[39;00m(\n\u001b[0;32m    770\u001b[0m             \u001b[38;5;124m\"\u001b[39m\u001b[38;5;124mExpected 2D array, got 1D array instead:\u001b[39m\u001b[38;5;130;01m\\n\u001b[39;00m\u001b[38;5;124marray=\u001b[39m\u001b[38;5;132;01m{}\u001b[39;00m\u001b[38;5;124m.\u001b[39m\u001b[38;5;130;01m\\n\u001b[39;00m\u001b[38;5;124m\"\u001b[39m\n\u001b[0;32m    771\u001b[0m             \u001b[38;5;124m\"\u001b[39m\u001b[38;5;124mReshape your data either using array.reshape(-1, 1) if \u001b[39m\u001b[38;5;124m\"\u001b[39m\n\u001b[0;32m    772\u001b[0m             \u001b[38;5;124m\"\u001b[39m\u001b[38;5;124myour data has a single feature or array.reshape(1, -1) \u001b[39m\u001b[38;5;124m\"\u001b[39m\n\u001b[0;32m    773\u001b[0m             \u001b[38;5;124m\"\u001b[39m\u001b[38;5;124mif it contains a single sample.\u001b[39m\u001b[38;5;124m\"\u001b[39m\u001b[38;5;241m.\u001b[39mformat(array)\n\u001b[0;32m    774\u001b[0m         )\n\u001b[0;32m    776\u001b[0m \u001b[38;5;66;03m# make sure we actually converted to numeric:\u001b[39;00m\n\u001b[0;32m    777\u001b[0m \u001b[38;5;28;01mif\u001b[39;00m dtype_numeric \u001b[38;5;129;01mand\u001b[39;00m array\u001b[38;5;241m.\u001b[39mdtype\u001b[38;5;241m.\u001b[39mkind \u001b[38;5;129;01min\u001b[39;00m \u001b[38;5;124m\"\u001b[39m\u001b[38;5;124mOUSV\u001b[39m\u001b[38;5;124m\"\u001b[39m:\n",
      "\u001b[1;31mValueError\u001b[0m: Expected 2D array, got 1D array instead:\narray=[67.06292382 68.80409404 60.93086317 59.73384301 65.43123003 61.57716033\n 63.34186626 61.04164336 62.63362335 53.40785962 62.93820031 68.5548571\n 65.1630426  53.44601711 60.65937349 59.17655435 67.16384091 60.6270339\n 53.96476395 60.35999202 59.85687102 68.02783468 64.59160046 53.55139341\n 60.44702902 54.83092473 69.30872116 62.73255209 54.18683143 62.62977223\n 64.44201493 64.51477257 68.86502846 63.88109247 62.47848649 70.69177381\n 53.55726809 62.28600868 54.01520331 68.01439661 52.06898888 62.38717375\n 59.35486355 68.54273845 64.38072382 67.62212014 62.61540394 60.98457787\n 67.79216223 68.0997396  53.51571683 53.29266169 66.45506155 62.29651635\n 58.70446347 62.79487742 64.04290009 53.29334143 54.24470276 67.17963143\n 67.32285129 54.57705626 67.89054867 67.20385558 68.71053654 63.02658071\n 59.7328874  66.86554278 60.26584458 63.9956032  51.62855362 61.03111676\n 51.79823342 68.25373169 52.1307295  68.7427972  63.64009622 63.75465324\n 61.17689903 61.33824368 53.61670245 61.57051766 54.20840156 62.06093508\n 59.75761312 64.43404739 53.35527708 54.45472275 65.98361013 53.88228842\n 53.71377385 55.46345663 67.69554158 54.08461307 59.25959276 60.96913011\n 67.01882016 69.98575252 66.76407728 61.06155202 52.1346691  54.62612906\n 66.81686469 54.06062459 60.66434742 58.62404679 61.85781376 68.35007074\n 61.13889779 54.6434248  53.99848734 62.5381549  54.07585096 54.62194554\n 68.00440667 52.84806374 67.09327377 59.07709357 65.40651892 67.29406412\n 62.97504329 53.50985446 66.40019392 67.96728218 53.68859732 67.30893189\n 67.36510129 67.77255436 67.09105858 54.09931856 59.78992597 53.49238881\n 63.48084078 52.79000647 54.6180984  54.34913719 60.94261063 68.59159925\n 61.13702427 64.40007272 67.67362809 67.46850179 66.29926203 67.33806827\n 62.69965507 53.9188512  62.03290375 60.98438543 63.63772959 53.64777969\n 56.07878065 66.52404495 60.58832099 60.59891665 58.52560452 63.40716934\n 62.69655843 67.74310336 61.62249167 59.08541212 68.22783139 61.29758686\n 65.51411042 65.60708637 63.52051969 64.32816532 70.58917621 60.93872684\n 53.57177577 64.23114558 68.61522147 53.1659888  67.77719511 63.29696904\n 62.68180921 51.61126053 62.07209064 52.02031483 51.45486291 53.79428019\n 69.30970387 67.77332753 64.91689702 59.26676455 61.92664491 54.29603153\n 63.46931307 67.47354206 63.79206558 55.19270847 67.23670988 63.33743282\n 51.19121822 62.84988265 64.23417029 52.46291016 60.88269412 62.4885472\n 60.50801148 55.70336525 54.63386799 60.12186693 61.33353651 63.67714156\n 59.01872036 63.43110154 65.35138573 58.42839558 62.80689868 66.22830497\n 61.91773119 67.474964   66.5859165  65.95668083 59.59360454 69.37718464\n 65.34201141 53.21225375 54.30135937 53.48530985 62.00825988 66.92206599\n 63.79357111 54.27551463 63.07615877 66.17340796 53.98214572 59.75346718\n 54.8930747  61.87636361 64.08904127 62.58956277 61.67624061 64.12618851\n 58.43126174 62.37823547 59.37242056 64.60416075 52.73786924 66.74415461\n 64.79483343 63.66298293 62.0889063  69.1051671  53.30571484 55.38472731\n 60.1147989  68.31331707 61.09049614 62.53286576 61.56022329 63.84377454\n 67.89722833 52.04843236 59.66599305 54.59528523 53.60265818 63.37828615\n 54.01996604 62.83451114 61.05029669 58.37499402 67.52585273 52.4837075\n 67.4154626  65.09732431 61.47937021 61.09291895 53.1032692  69.06938297\n 61.20805315 53.3244312  67.73089441 61.63593169 67.09357794 52.36732805\n 62.33914476 62.64753647 59.93594368 67.66410168 66.92767867 59.41930796\n 67.25087401 62.16665036 67.50067102 60.39660739 63.00187062 66.81044635\n 60.00440336 61.15835514 61.63436998 67.96672169 51.218957   53.48342625\n 67.95956341 51.04849712 52.54449299 53.20888266 60.24704247 66.64006841\n 69.07751187 53.61983928 62.21454705 50.90010702 66.89438629 67.86072872\n 63.32045968 54.98613263 54.61787309 58.86670115 53.46338785 62.45953375\n 66.73492301 62.01459378 53.98628714 64.26407458 53.26378665 60.70181549\n 62.68378913 60.27641074 60.19396512 60.34419134 65.01053039 62.34679923\n 51.9694277  68.49549904 60.8396701  64.13953206 52.61859693 67.06546466\n 60.60920184 61.19355528 68.31366965 68.37307951 63.91372915 67.6023751\n 64.10504753 62.04066802 59.50773779 62.60736073 53.81929866 66.15365875\n 66.68878596 63.20959635 65.93930765 58.33746129 67.88567579 67.47850232\n 66.10418981 67.18057325 58.5763917  66.98557392 60.38893319 67.1390347\n 59.88470167 60.20871922 53.66974121 64.59402463 60.32698144 54.95854012\n 55.78418374 61.98277636 59.94226847 66.27936701 68.3197989  63.62892367\n 63.27195154 67.11323909 61.58111416 53.87865097 60.59936267 60.55147599\n 60.95494339 53.07347272 60.38775433 61.94025949 59.65626521 53.37214501\n 52.43346761 61.72456567 55.72952021 53.88646126 61.83381934 53.29567664\n 54.83743149 62.75594323 61.23777598 64.44722284 63.6370423  53.6909829\n 51.93191853 54.30190657 52.76233651 68.9399226  55.23134414 68.23162724\n 61.18875689 66.87638017 53.16425833 61.41083369 68.51076902 60.03762101\n 68.77251194 60.27049451 61.15951099 62.72521586 52.6204304  59.80644187\n 53.82852066 64.71615408 63.27181363 66.42567332 55.25747049 63.37068428\n 61.53169451 68.82034877 54.42748332 63.54388296 63.67818987 61.47124921\n 65.46363691 61.62398264 67.20805367 64.71116428 68.86951817 62.52978917\n 69.18182154 54.90871823 61.22278644 70.70045601 53.64156384 68.01287432\n 61.09873016 65.17734527 62.65066202 63.17825525 67.30844404 54.58187876\n 59.58019937 60.84648598 63.09010997 67.74120609 65.96768802 60.07987124\n 60.63560901 64.60322547 61.51709899 61.59487708 53.93604304 67.50974602\n 62.58812751 66.24192891 54.83016895 61.6264852  65.1741325  62.56454424\n 54.08443765 64.60678733 59.73678261 53.04365887 65.27157378 62.91019878\n 65.90628614 63.69916616 66.71668644 60.20778242 51.62941503 67.39211263\n 64.12844099 67.56170534 59.90378948 67.02070622 62.21934419 53.4285397\n 60.40445993 52.67740821 63.98253612 52.51487819 59.51156193 55.25345356\n 60.86989664 62.6667093  65.11366267 53.57849546 63.27932975 62.20775653\n 61.39285936 54.06916342 66.37324782 63.17097366 62.28468417 55.22303859\n 62.31115416 61.84889365 62.20036242 59.97698273 66.42381443 53.60469782\n 50.43364367 60.22439201].\nReshape your data either using array.reshape(-1, 1) if your data has a single feature or array.reshape(1, -1) if it contains a single sample."
     ]
    }
   ],
   "source": [
    "scaler = MinMaxScaler()\n",
    "scaler.fit(df[['Height']])\n",
    "df['Height'] = scaler.transform(df['Height'])\n",
    "\n",
    "\n",
    "scaler.fit(df[['Weight']])\n",
    "df['Weight'] = scaler.transform(df['Weight'])\n",
    "df"
   ]
  },
  {
   "cell_type": "code",
   "execution_count": 106,
   "id": "627d67a8",
   "metadata": {},
   "outputs": [
    {
     "data": {
      "text/plain": [
       "array([2, 2, 1, 1, 2, 1, 1, 1, 1, 0, 1, 2, 1, 0, 1, 1, 2, 1, 0, 1, 1, 2,\n",
       "       1, 0, 1, 0, 2, 1, 0, 1, 1, 1, 2, 1, 1, 2, 0, 1, 0, 2, 0, 1, 1, 2,\n",
       "       1, 2, 1, 1, 2, 2, 0, 0, 2, 1, 1, 1, 1, 0, 0, 2, 2, 0, 2, 2, 2, 1,\n",
       "       1, 2, 1, 1, 0, 1, 0, 2, 0, 2, 1, 1, 1, 1, 0, 1, 0, 1, 1, 1, 0, 0,\n",
       "       2, 0, 0, 0, 2, 0, 1, 1, 2, 2, 2, 1, 0, 0, 2, 0, 1, 1, 1, 2, 1, 0,\n",
       "       0, 1, 0, 0, 2, 0, 2, 1, 1, 2, 1, 0, 2, 2, 0, 2, 2, 2, 2, 0, 1, 0,\n",
       "       1, 0, 0, 0, 1, 2, 1, 1, 2, 2, 2, 2, 1, 0, 1, 1, 1, 0, 0, 2, 1, 1,\n",
       "       1, 1, 1, 2, 1, 1, 2, 1, 2, 2, 1, 1, 2, 1, 0, 1, 2, 0, 2, 1, 1, 0,\n",
       "       1, 0, 0, 0, 2, 2, 2, 1, 1, 0, 1, 2, 1, 0, 2, 1, 0, 1, 1, 0, 1, 1,\n",
       "       1, 0, 0, 1, 1, 1, 1, 1, 1, 1, 1, 2, 1, 2, 2, 2, 1, 2, 1, 0, 0, 0,\n",
       "       1, 2, 1, 0, 1, 2, 0, 1, 0, 1, 1, 1, 1, 1, 1, 1, 1, 1, 0, 2, 2, 1,\n",
       "       1, 2, 0, 0, 1, 2, 1, 1, 1, 1, 2, 0, 1, 0, 0, 1, 0, 1, 1, 1, 2, 0,\n",
       "       2, 2, 1, 1, 0, 2, 1, 0, 2, 1, 2, 0, 1, 1, 1, 2, 2, 1, 2, 1, 2, 1,\n",
       "       1, 2, 1, 1, 1, 2, 0, 0, 2, 0, 0, 0, 1, 2, 2, 0, 1, 0, 2, 2, 1, 0,\n",
       "       0, 1, 0, 1, 2, 1, 0, 1, 0, 1, 1, 1, 1, 1, 1, 1, 0, 2, 1, 1, 0, 2,\n",
       "       1, 1, 2, 2, 1, 2, 1, 1, 1, 1, 0, 2, 2, 1, 2, 1, 2, 2, 2, 2, 1, 2,\n",
       "       1, 2, 1, 1, 0, 2, 1, 0, 0, 1, 1, 2, 2, 1, 1, 2, 1, 0, 1, 1, 1, 0,\n",
       "       1, 1, 1, 0, 0, 1, 0, 0, 1, 0, 0, 1, 1, 1, 1, 0, 0, 0, 0, 2, 0, 2,\n",
       "       1, 2, 0, 1, 2, 1, 2, 1, 1, 1, 0, 1, 0, 1, 1, 2, 0, 1, 1, 2, 0, 1,\n",
       "       1, 1, 2, 1, 2, 1, 2, 1, 2, 0, 1, 2, 0, 2, 1, 1, 1, 1, 2, 0, 1, 1,\n",
       "       1, 2, 2, 1, 1, 1, 1, 1, 0, 2, 1, 2, 0, 1, 1, 1, 0, 1, 1, 0, 1, 1,\n",
       "       1, 1, 2, 1, 0, 2, 1, 2, 1, 2, 1, 0, 1, 0, 1, 0, 1, 0, 1, 1, 1, 0,\n",
       "       1, 1, 1, 0, 2, 1, 1, 0, 1, 1, 1, 1, 2, 0, 0, 1])"
      ]
     },
     "execution_count": 106,
     "metadata": {},
     "output_type": "execute_result"
    }
   ],
   "source": [
    "km = KMeans(n_clusters=3)\n",
    "y_predicted = km.fit_predict(df[['Weight','Height']])\n",
    "y_predicted"
   ]
  },
  {
   "cell_type": "code",
   "execution_count": 107,
   "id": "afe8ce90",
   "metadata": {},
   "outputs": [
    {
     "data": {
      "text/html": [
       "<div>\n",
       "<style scoped>\n",
       "    .dataframe tbody tr th:only-of-type {\n",
       "        vertical-align: middle;\n",
       "    }\n",
       "\n",
       "    .dataframe tbody tr th {\n",
       "        vertical-align: top;\n",
       "    }\n",
       "\n",
       "    .dataframe thead th {\n",
       "        text-align: right;\n",
       "    }\n",
       "</style>\n",
       "<table border=\"1\" class=\"dataframe\">\n",
       "  <thead>\n",
       "    <tr style=\"text-align: right;\">\n",
       "      <th></th>\n",
       "      <th>Weight</th>\n",
       "      <th>Height</th>\n",
       "      <th>cluster</th>\n",
       "    </tr>\n",
       "  </thead>\n",
       "  <tbody>\n",
       "    <tr>\n",
       "      <th>0</th>\n",
       "      <td>67.062924</td>\n",
       "      <td>176.086355</td>\n",
       "      <td>2</td>\n",
       "    </tr>\n",
       "    <tr>\n",
       "      <th>1</th>\n",
       "      <td>68.804094</td>\n",
       "      <td>178.388669</td>\n",
       "      <td>2</td>\n",
       "    </tr>\n",
       "    <tr>\n",
       "      <th>2</th>\n",
       "      <td>60.930863</td>\n",
       "      <td>170.284496</td>\n",
       "      <td>1</td>\n",
       "    </tr>\n",
       "    <tr>\n",
       "      <th>3</th>\n",
       "      <td>59.733843</td>\n",
       "      <td>168.691992</td>\n",
       "      <td>1</td>\n",
       "    </tr>\n",
       "    <tr>\n",
       "      <th>4</th>\n",
       "      <td>65.431230</td>\n",
       "      <td>173.763679</td>\n",
       "      <td>2</td>\n",
       "    </tr>\n",
       "    <tr>\n",
       "      <th>...</th>\n",
       "      <td>...</td>\n",
       "      <td>...</td>\n",
       "      <td>...</td>\n",
       "    </tr>\n",
       "    <tr>\n",
       "      <th>495</th>\n",
       "      <td>59.976983</td>\n",
       "      <td>169.679741</td>\n",
       "      <td>1</td>\n",
       "    </tr>\n",
       "    <tr>\n",
       "      <th>496</th>\n",
       "      <td>66.423814</td>\n",
       "      <td>174.625574</td>\n",
       "      <td>2</td>\n",
       "    </tr>\n",
       "    <tr>\n",
       "      <th>497</th>\n",
       "      <td>53.604698</td>\n",
       "      <td>161.919208</td>\n",
       "      <td>0</td>\n",
       "    </tr>\n",
       "    <tr>\n",
       "      <th>498</th>\n",
       "      <td>50.433644</td>\n",
       "      <td>160.794875</td>\n",
       "      <td>0</td>\n",
       "    </tr>\n",
       "    <tr>\n",
       "      <th>499</th>\n",
       "      <td>60.224392</td>\n",
       "      <td>169.689709</td>\n",
       "      <td>1</td>\n",
       "    </tr>\n",
       "  </tbody>\n",
       "</table>\n",
       "<p>500 rows × 3 columns</p>\n",
       "</div>"
      ],
      "text/plain": [
       "        Weight      Height  cluster\n",
       "0    67.062924  176.086355        2\n",
       "1    68.804094  178.388669        2\n",
       "2    60.930863  170.284496        1\n",
       "3    59.733843  168.691992        1\n",
       "4    65.431230  173.763679        2\n",
       "..         ...         ...      ...\n",
       "495  59.976983  169.679741        1\n",
       "496  66.423814  174.625574        2\n",
       "497  53.604698  161.919208        0\n",
       "498  50.433644  160.794875        0\n",
       "499  60.224392  169.689709        1\n",
       "\n",
       "[500 rows x 3 columns]"
      ]
     },
     "execution_count": 107,
     "metadata": {},
     "output_type": "execute_result"
    }
   ],
   "source": [
    "df['cluster'] = y_predicted\n",
    "df"
   ]
  },
  {
   "cell_type": "code",
   "execution_count": 108,
   "id": "8db77830",
   "metadata": {},
   "outputs": [
    {
     "data": {
      "text/plain": [
       "array([[ 53.60029808, 162.76478198],\n",
       "       [ 61.91101547, 169.61922731],\n",
       "       [ 67.48040873, 175.86017523]])"
      ]
     },
     "execution_count": 108,
     "metadata": {},
     "output_type": "execute_result"
    }
   ],
   "source": [
    "km.cluster_centers_"
   ]
  },
  {
   "cell_type": "code",
   "execution_count": 109,
   "id": "0ef714a7",
   "metadata": {},
   "outputs": [
    {
     "data": {
      "text/plain": [
       "<matplotlib.legend.Legend at 0x243bf6cf970>"
      ]
     },
     "execution_count": 109,
     "metadata": {},
     "output_type": "execute_result"
    },
    {
     "data": {
      "image/png": "[encoded data removed]",
      "text/plain": [
       "<Figure size 432x288 with 1 Axes>"
      ]
     },
     "metadata": {
      "needs_background": "light"
     },
     "output_type": "display_data"
    }
   ],
   "source": [
    "df1 = df[df.cluster == 0]\n",
    "df2 = df[df.cluster == 1]\n",
    "df3 = df[df.cluster == 2]\n",
    "plt.scatter(df1.Weight, df1['Height'],color = 'green',label = 'Height')\n",
    "plt.scatter(df2.Weight, df2['Height'],color = 'red',label = 'Height')\n",
    "plt.scatter(df3.Weight, df3['Height'],color = 'blue',label = 'Height')\n",
    "\n",
    "plt.xlabel('Weight')\n",
    "plt.ylabel('Height')\n",
    "\n",
    "plt.scatter(km.cluster_centers_[:,0],km.cluster_centers_[:,1],color= 'black',marker='.',s=500,label='centroid')\n",
    "\n",
    "plt.legend()"
   ]
  },
  {
   "cell_type": "code",
   "execution_count": 97,
   "id": "b185b4e3",
   "metadata": {},
   "outputs": [
    {
     "data": {
      "text/plain": [
       "[24998.64940648522,\n",
       " 7591.182625661997,\n",
       " 1677.0495537226552,\n",
       " 1134.4034038422283,\n",
       " 958.5951674150613,\n",
       " 797.9458846727657,\n",
       " 651.5677327566644,\n",
       " 532.3209711918264,\n",
       " 463.59689591306]"
      ]
     },
     "execution_count": 97,
     "metadata": {},
     "output_type": "execute_result"
    }
   ],
   "source": [
    "k_rng = range(1,10)\n",
    "sse = []\n",
    "for k in k_rng:\n",
    "    km = KMeans(n_clusters=k)\n",
    "    km.fit(df[['Weight','Height']])\n",
    "    sse.append(km.inertia_)\n",
    "sse"
   ]
  },
  {
   "cell_type": "code",
   "execution_count": 95,
   "id": "b5cbb36f",
   "metadata": {},
   "outputs": [
    {
     "data": {
      "text/plain": [
       "[<matplotlib.lines.Line2D at 0x243bf55a6b0>]"
      ]
     },
     "execution_count": 95,
     "metadata": {},
     "output_type": "execute_result"
    },
    {
     "data": {
      "image/png": "[encoded data removed]",
      "text/plain": [
       "<Figure size 432x288 with 1 Axes>"
      ]
     },
     "metadata": {
      "needs_background": "light"
     },
     "output_type": "display_data"
    }
   ],
   "source": [
    "plt.xlabel('k')\n",
    "plt.ylabel('sum of squared error')\n",
    "plt.plot(k_rng,sse)"
   ]
  },
  {
   "cell_type": "code",
   "execution_count": null,
   "id": "aeb7b7b6",
   "metadata": {},
   "outputs": [],
   "source": []
  }
 ],
 "metadata": {
  "kernelspec": {
   "display_name": "Python 3 (ipykernel)",
   "language": "python",
   "name": "python3"
  },
  "language_info": {
   "codemirror_mode": {
    "name": "ipython",
    "version": 3
   },
   "file_extension": ".py",
   "mimetype": "text/x-python",
   "name": "python",
   "nbconvert_exporter": "python",
   "pygments_lexer": "ipython3",
   "version": "3.10.1"
  }
 },
 "nbformat": 4,
 "nbformat_minor": 5
}
